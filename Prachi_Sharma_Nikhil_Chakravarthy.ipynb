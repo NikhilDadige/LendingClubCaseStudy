{
 "cells": [
  {
   "cell_type": "markdown",
   "id": "1b2d6912-5519-4767-9b84-66a9a07692b6",
   "metadata": {},
   "source": [
    "# Lending Club Case Study - Data Cleansing, EDA & Extracting Insights"
   ]
  },
  {
   "cell_type": "markdown",
   "id": "dcb53e4e-5c78-4962-90bf-85f4d9361439",
   "metadata": {},
   "source": [
    "#### Import Necessary Libraries"
   ]
  },
  {
   "cell_type": "code",
   "execution_count": 355,
   "id": "b1d1b36b-a3bb-45df-80f4-82c4a51df3ee",
   "metadata": {},
   "outputs": [],
   "source": [
    "#Numerical and data analysis\n",
    "import pandas as pd\n",
    "import numpy as np\n",
    "\n",
    "#Data visualization\n",
    "from matplotlib import pyplot as plt\n",
    "import seaborn as sb\n",
    "\n",
    "#Ignore warnings\n",
    "import warnings\n",
    "warnings.filterwarnings('ignore')"
   ]
  },
  {
   "cell_type": "markdown",
   "id": "767632f8-624f-45b5-8e39-c2e9121ce977",
   "metadata": {},
   "source": [
    "#### Load the dataset and prepare dataframe"
   ]
  },
  {
   "cell_type": "code",
   "execution_count": 356,
   "id": "9b595b3f-5948-441d-bc2d-d98bde73bdd7",
   "metadata": {},
   "outputs": [
    {
     "data": {
      "text/html": [
       "<div>\n",
       "<style scoped>\n",
       "    .dataframe tbody tr th:only-of-type {\n",
       "        vertical-align: middle;\n",
       "    }\n",
       "\n",
       "    .dataframe tbody tr th {\n",
       "        vertical-align: top;\n",
       "    }\n",
       "\n",
       "    .dataframe thead th {\n",
       "        text-align: right;\n",
       "    }\n",
       "</style>\n",
       "<table border=\"1\" class=\"dataframe\">\n",
       "  <thead>\n",
       "    <tr style=\"text-align: right;\">\n",
       "      <th></th>\n",
       "      <th>id</th>\n",
       "      <th>member_id</th>\n",
       "      <th>loan_amnt</th>\n",
       "      <th>funded_amnt</th>\n",
       "      <th>funded_amnt_inv</th>\n",
       "      <th>term</th>\n",
       "      <th>int_rate</th>\n",
       "      <th>installment</th>\n",
       "      <th>grade</th>\n",
       "      <th>sub_grade</th>\n",
       "      <th>...</th>\n",
       "      <th>num_tl_90g_dpd_24m</th>\n",
       "      <th>num_tl_op_past_12m</th>\n",
       "      <th>pct_tl_nvr_dlq</th>\n",
       "      <th>percent_bc_gt_75</th>\n",
       "      <th>pub_rec_bankruptcies</th>\n",
       "      <th>tax_liens</th>\n",
       "      <th>tot_hi_cred_lim</th>\n",
       "      <th>total_bal_ex_mort</th>\n",
       "      <th>total_bc_limit</th>\n",
       "      <th>total_il_high_credit_limit</th>\n",
       "    </tr>\n",
       "  </thead>\n",
       "  <tbody>\n",
       "    <tr>\n",
       "      <th>0</th>\n",
       "      <td>1077501</td>\n",
       "      <td>1296599</td>\n",
       "      <td>5000</td>\n",
       "      <td>5000</td>\n",
       "      <td>4975.0</td>\n",
       "      <td>36 months</td>\n",
       "      <td>10.65%</td>\n",
       "      <td>162.87</td>\n",
       "      <td>B</td>\n",
       "      <td>B2</td>\n",
       "      <td>...</td>\n",
       "      <td>NaN</td>\n",
       "      <td>NaN</td>\n",
       "      <td>NaN</td>\n",
       "      <td>NaN</td>\n",
       "      <td>0.0</td>\n",
       "      <td>0.0</td>\n",
       "      <td>NaN</td>\n",
       "      <td>NaN</td>\n",
       "      <td>NaN</td>\n",
       "      <td>NaN</td>\n",
       "    </tr>\n",
       "    <tr>\n",
       "      <th>1</th>\n",
       "      <td>1077430</td>\n",
       "      <td>1314167</td>\n",
       "      <td>2500</td>\n",
       "      <td>2500</td>\n",
       "      <td>2500.0</td>\n",
       "      <td>60 months</td>\n",
       "      <td>15.27%</td>\n",
       "      <td>59.83</td>\n",
       "      <td>C</td>\n",
       "      <td>C4</td>\n",
       "      <td>...</td>\n",
       "      <td>NaN</td>\n",
       "      <td>NaN</td>\n",
       "      <td>NaN</td>\n",
       "      <td>NaN</td>\n",
       "      <td>0.0</td>\n",
       "      <td>0.0</td>\n",
       "      <td>NaN</td>\n",
       "      <td>NaN</td>\n",
       "      <td>NaN</td>\n",
       "      <td>NaN</td>\n",
       "    </tr>\n",
       "    <tr>\n",
       "      <th>2</th>\n",
       "      <td>1077175</td>\n",
       "      <td>1313524</td>\n",
       "      <td>2400</td>\n",
       "      <td>2400</td>\n",
       "      <td>2400.0</td>\n",
       "      <td>36 months</td>\n",
       "      <td>15.96%</td>\n",
       "      <td>84.33</td>\n",
       "      <td>C</td>\n",
       "      <td>C5</td>\n",
       "      <td>...</td>\n",
       "      <td>NaN</td>\n",
       "      <td>NaN</td>\n",
       "      <td>NaN</td>\n",
       "      <td>NaN</td>\n",
       "      <td>0.0</td>\n",
       "      <td>0.0</td>\n",
       "      <td>NaN</td>\n",
       "      <td>NaN</td>\n",
       "      <td>NaN</td>\n",
       "      <td>NaN</td>\n",
       "    </tr>\n",
       "    <tr>\n",
       "      <th>3</th>\n",
       "      <td>1076863</td>\n",
       "      <td>1277178</td>\n",
       "      <td>10000</td>\n",
       "      <td>10000</td>\n",
       "      <td>10000.0</td>\n",
       "      <td>36 months</td>\n",
       "      <td>13.49%</td>\n",
       "      <td>339.31</td>\n",
       "      <td>C</td>\n",
       "      <td>C1</td>\n",
       "      <td>...</td>\n",
       "      <td>NaN</td>\n",
       "      <td>NaN</td>\n",
       "      <td>NaN</td>\n",
       "      <td>NaN</td>\n",
       "      <td>0.0</td>\n",
       "      <td>0.0</td>\n",
       "      <td>NaN</td>\n",
       "      <td>NaN</td>\n",
       "      <td>NaN</td>\n",
       "      <td>NaN</td>\n",
       "    </tr>\n",
       "    <tr>\n",
       "      <th>4</th>\n",
       "      <td>1075358</td>\n",
       "      <td>1311748</td>\n",
       "      <td>3000</td>\n",
       "      <td>3000</td>\n",
       "      <td>3000.0</td>\n",
       "      <td>60 months</td>\n",
       "      <td>12.69%</td>\n",
       "      <td>67.79</td>\n",
       "      <td>B</td>\n",
       "      <td>B5</td>\n",
       "      <td>...</td>\n",
       "      <td>NaN</td>\n",
       "      <td>NaN</td>\n",
       "      <td>NaN</td>\n",
       "      <td>NaN</td>\n",
       "      <td>0.0</td>\n",
       "      <td>0.0</td>\n",
       "      <td>NaN</td>\n",
       "      <td>NaN</td>\n",
       "      <td>NaN</td>\n",
       "      <td>NaN</td>\n",
       "    </tr>\n",
       "  </tbody>\n",
       "</table>\n",
       "<p>5 rows × 111 columns</p>\n",
       "</div>"
      ],
      "text/plain": [
       "        id  member_id  loan_amnt  funded_amnt  funded_amnt_inv        term  \\\n",
       "0  1077501    1296599       5000         5000           4975.0   36 months   \n",
       "1  1077430    1314167       2500         2500           2500.0   60 months   \n",
       "2  1077175    1313524       2400         2400           2400.0   36 months   \n",
       "3  1076863    1277178      10000        10000          10000.0   36 months   \n",
       "4  1075358    1311748       3000         3000           3000.0   60 months   \n",
       "\n",
       "  int_rate  installment grade sub_grade  ... num_tl_90g_dpd_24m  \\\n",
       "0   10.65%       162.87     B        B2  ...                NaN   \n",
       "1   15.27%        59.83     C        C4  ...                NaN   \n",
       "2   15.96%        84.33     C        C5  ...                NaN   \n",
       "3   13.49%       339.31     C        C1  ...                NaN   \n",
       "4   12.69%        67.79     B        B5  ...                NaN   \n",
       "\n",
       "  num_tl_op_past_12m pct_tl_nvr_dlq  percent_bc_gt_75 pub_rec_bankruptcies  \\\n",
       "0                NaN            NaN               NaN                  0.0   \n",
       "1                NaN            NaN               NaN                  0.0   \n",
       "2                NaN            NaN               NaN                  0.0   \n",
       "3                NaN            NaN               NaN                  0.0   \n",
       "4                NaN            NaN               NaN                  0.0   \n",
       "\n",
       "  tax_liens tot_hi_cred_lim total_bal_ex_mort total_bc_limit  \\\n",
       "0       0.0             NaN               NaN            NaN   \n",
       "1       0.0             NaN               NaN            NaN   \n",
       "2       0.0             NaN               NaN            NaN   \n",
       "3       0.0             NaN               NaN            NaN   \n",
       "4       0.0             NaN               NaN            NaN   \n",
       "\n",
       "  total_il_high_credit_limit  \n",
       "0                        NaN  \n",
       "1                        NaN  \n",
       "2                        NaN  \n",
       "3                        NaN  \n",
       "4                        NaN  \n",
       "\n",
       "[5 rows x 111 columns]"
      ]
     },
     "execution_count": 356,
     "metadata": {},
     "output_type": "execute_result"
    }
   ],
   "source": [
    "df = pd.read_csv('/Users/nikhilnaveen/Desktop/Learning/Assignments/LendingClubCaseStudy/loan.csv')\n",
    "df.head()"
   ]
  },
  {
   "cell_type": "markdown",
   "id": "f4d1cdc0-731d-449d-a929-c2a37e317c69",
   "metadata": {},
   "source": [
    "#### Problem Statement:\n",
    "- Based on the dataset given, perform EDA and derive some metrics & conclusions that can help the company to make decisions like loan approval and rejection."
   ]
  },
  {
   "cell_type": "markdown",
   "id": "a4dd3b5a-7b6f-499b-b8a1-147022f54d14",
   "metadata": {},
   "source": [
    "#### Print the no. of records present in the dataframe before doing any changes (excluding headers)"
   ]
  },
  {
   "cell_type": "code",
   "execution_count": 357,
   "id": "7a2234be-b675-4310-994e-b3119bffde59",
   "metadata": {},
   "outputs": [
    {
     "data": {
      "text/plain": [
       "39716"
      ]
     },
     "execution_count": 357,
     "metadata": {},
     "output_type": "execute_result"
    }
   ],
   "source": [
    "df.shape[0]-1"
   ]
  },
  {
   "cell_type": "markdown",
   "id": "17c92b02-74d1-4f96-8b29-2193ad354285",
   "metadata": {},
   "source": [
    "#### Remove \"Current\" customers as the analysis is on fully paid & charged-off customers"
   ]
  },
  {
   "cell_type": "code",
   "execution_count": 358,
   "id": "bd8ca620-de4c-4668-98ef-047886d3ae15",
   "metadata": {
    "scrolled": true
   },
   "outputs": [
    {
     "data": {
      "text/html": [
       "<div>\n",
       "<style scoped>\n",
       "    .dataframe tbody tr th:only-of-type {\n",
       "        vertical-align: middle;\n",
       "    }\n",
       "\n",
       "    .dataframe tbody tr th {\n",
       "        vertical-align: top;\n",
       "    }\n",
       "\n",
       "    .dataframe thead th {\n",
       "        text-align: right;\n",
       "    }\n",
       "</style>\n",
       "<table border=\"1\" class=\"dataframe\">\n",
       "  <thead>\n",
       "    <tr style=\"text-align: right;\">\n",
       "      <th></th>\n",
       "      <th>id</th>\n",
       "      <th>member_id</th>\n",
       "      <th>loan_amnt</th>\n",
       "      <th>funded_amnt</th>\n",
       "      <th>funded_amnt_inv</th>\n",
       "      <th>term</th>\n",
       "      <th>int_rate</th>\n",
       "      <th>installment</th>\n",
       "      <th>grade</th>\n",
       "      <th>sub_grade</th>\n",
       "      <th>...</th>\n",
       "      <th>num_tl_90g_dpd_24m</th>\n",
       "      <th>num_tl_op_past_12m</th>\n",
       "      <th>pct_tl_nvr_dlq</th>\n",
       "      <th>percent_bc_gt_75</th>\n",
       "      <th>pub_rec_bankruptcies</th>\n",
       "      <th>tax_liens</th>\n",
       "      <th>tot_hi_cred_lim</th>\n",
       "      <th>total_bal_ex_mort</th>\n",
       "      <th>total_bc_limit</th>\n",
       "      <th>total_il_high_credit_limit</th>\n",
       "    </tr>\n",
       "  </thead>\n",
       "  <tbody>\n",
       "    <tr>\n",
       "      <th>0</th>\n",
       "      <td>1077501</td>\n",
       "      <td>1296599</td>\n",
       "      <td>5000</td>\n",
       "      <td>5000</td>\n",
       "      <td>4975.0</td>\n",
       "      <td>36 months</td>\n",
       "      <td>10.65%</td>\n",
       "      <td>162.87</td>\n",
       "      <td>B</td>\n",
       "      <td>B2</td>\n",
       "      <td>...</td>\n",
       "      <td>NaN</td>\n",
       "      <td>NaN</td>\n",
       "      <td>NaN</td>\n",
       "      <td>NaN</td>\n",
       "      <td>0.0</td>\n",
       "      <td>0.0</td>\n",
       "      <td>NaN</td>\n",
       "      <td>NaN</td>\n",
       "      <td>NaN</td>\n",
       "      <td>NaN</td>\n",
       "    </tr>\n",
       "    <tr>\n",
       "      <th>1</th>\n",
       "      <td>1077430</td>\n",
       "      <td>1314167</td>\n",
       "      <td>2500</td>\n",
       "      <td>2500</td>\n",
       "      <td>2500.0</td>\n",
       "      <td>60 months</td>\n",
       "      <td>15.27%</td>\n",
       "      <td>59.83</td>\n",
       "      <td>C</td>\n",
       "      <td>C4</td>\n",
       "      <td>...</td>\n",
       "      <td>NaN</td>\n",
       "      <td>NaN</td>\n",
       "      <td>NaN</td>\n",
       "      <td>NaN</td>\n",
       "      <td>0.0</td>\n",
       "      <td>0.0</td>\n",
       "      <td>NaN</td>\n",
       "      <td>NaN</td>\n",
       "      <td>NaN</td>\n",
       "      <td>NaN</td>\n",
       "    </tr>\n",
       "    <tr>\n",
       "      <th>2</th>\n",
       "      <td>1077175</td>\n",
       "      <td>1313524</td>\n",
       "      <td>2400</td>\n",
       "      <td>2400</td>\n",
       "      <td>2400.0</td>\n",
       "      <td>36 months</td>\n",
       "      <td>15.96%</td>\n",
       "      <td>84.33</td>\n",
       "      <td>C</td>\n",
       "      <td>C5</td>\n",
       "      <td>...</td>\n",
       "      <td>NaN</td>\n",
       "      <td>NaN</td>\n",
       "      <td>NaN</td>\n",
       "      <td>NaN</td>\n",
       "      <td>0.0</td>\n",
       "      <td>0.0</td>\n",
       "      <td>NaN</td>\n",
       "      <td>NaN</td>\n",
       "      <td>NaN</td>\n",
       "      <td>NaN</td>\n",
       "    </tr>\n",
       "    <tr>\n",
       "      <th>3</th>\n",
       "      <td>1076863</td>\n",
       "      <td>1277178</td>\n",
       "      <td>10000</td>\n",
       "      <td>10000</td>\n",
       "      <td>10000.0</td>\n",
       "      <td>36 months</td>\n",
       "      <td>13.49%</td>\n",
       "      <td>339.31</td>\n",
       "      <td>C</td>\n",
       "      <td>C1</td>\n",
       "      <td>...</td>\n",
       "      <td>NaN</td>\n",
       "      <td>NaN</td>\n",
       "      <td>NaN</td>\n",
       "      <td>NaN</td>\n",
       "      <td>0.0</td>\n",
       "      <td>0.0</td>\n",
       "      <td>NaN</td>\n",
       "      <td>NaN</td>\n",
       "      <td>NaN</td>\n",
       "      <td>NaN</td>\n",
       "    </tr>\n",
       "    <tr>\n",
       "      <th>5</th>\n",
       "      <td>1075269</td>\n",
       "      <td>1311441</td>\n",
       "      <td>5000</td>\n",
       "      <td>5000</td>\n",
       "      <td>5000.0</td>\n",
       "      <td>36 months</td>\n",
       "      <td>7.90%</td>\n",
       "      <td>156.46</td>\n",
       "      <td>A</td>\n",
       "      <td>A4</td>\n",
       "      <td>...</td>\n",
       "      <td>NaN</td>\n",
       "      <td>NaN</td>\n",
       "      <td>NaN</td>\n",
       "      <td>NaN</td>\n",
       "      <td>0.0</td>\n",
       "      <td>0.0</td>\n",
       "      <td>NaN</td>\n",
       "      <td>NaN</td>\n",
       "      <td>NaN</td>\n",
       "      <td>NaN</td>\n",
       "    </tr>\n",
       "  </tbody>\n",
       "</table>\n",
       "<p>5 rows × 111 columns</p>\n",
       "</div>"
      ],
      "text/plain": [
       "        id  member_id  loan_amnt  funded_amnt  funded_amnt_inv        term  \\\n",
       "0  1077501    1296599       5000         5000           4975.0   36 months   \n",
       "1  1077430    1314167       2500         2500           2500.0   60 months   \n",
       "2  1077175    1313524       2400         2400           2400.0   36 months   \n",
       "3  1076863    1277178      10000        10000          10000.0   36 months   \n",
       "5  1075269    1311441       5000         5000           5000.0   36 months   \n",
       "\n",
       "  int_rate  installment grade sub_grade  ... num_tl_90g_dpd_24m  \\\n",
       "0   10.65%       162.87     B        B2  ...                NaN   \n",
       "1   15.27%        59.83     C        C4  ...                NaN   \n",
       "2   15.96%        84.33     C        C5  ...                NaN   \n",
       "3   13.49%       339.31     C        C1  ...                NaN   \n",
       "5    7.90%       156.46     A        A4  ...                NaN   \n",
       "\n",
       "  num_tl_op_past_12m pct_tl_nvr_dlq  percent_bc_gt_75 pub_rec_bankruptcies  \\\n",
       "0                NaN            NaN               NaN                  0.0   \n",
       "1                NaN            NaN               NaN                  0.0   \n",
       "2                NaN            NaN               NaN                  0.0   \n",
       "3                NaN            NaN               NaN                  0.0   \n",
       "5                NaN            NaN               NaN                  0.0   \n",
       "\n",
       "  tax_liens tot_hi_cred_lim total_bal_ex_mort total_bc_limit  \\\n",
       "0       0.0             NaN               NaN            NaN   \n",
       "1       0.0             NaN               NaN            NaN   \n",
       "2       0.0             NaN               NaN            NaN   \n",
       "3       0.0             NaN               NaN            NaN   \n",
       "5       0.0             NaN               NaN            NaN   \n",
       "\n",
       "  total_il_high_credit_limit  \n",
       "0                        NaN  \n",
       "1                        NaN  \n",
       "2                        NaN  \n",
       "3                        NaN  \n",
       "5                        NaN  \n",
       "\n",
       "[5 rows x 111 columns]"
      ]
     },
     "execution_count": 358,
     "metadata": {},
     "output_type": "execute_result"
    }
   ],
   "source": [
    "df_filtered = df[~df['loan_status'].str.contains('Current')]\n",
    "df_filtered.head()"
   ]
  },
  {
   "cell_type": "markdown",
   "id": "81c2e3fa-efb8-46d9-a4a5-70f76355055b",
   "metadata": {},
   "source": [
    "#### Print the no. of records present in the dataframe after dropping current customers (excluding headers)"
   ]
  },
  {
   "cell_type": "code",
   "execution_count": 359,
   "id": "84d198a5-4e61-400d-8eda-4febe3d682e4",
   "metadata": {},
   "outputs": [
    {
     "data": {
      "text/plain": [
       "38576"
      ]
     },
     "execution_count": 359,
     "metadata": {},
     "output_type": "execute_result"
    }
   ],
   "source": [
    "df_filtered.shape[0]-1"
   ]
  },
  {
   "cell_type": "markdown",
   "id": "ce8c2589-ad89-4c68-b0c7-6f1bf195dc56",
   "metadata": {},
   "source": [
    "#### Check for missing values (null or NaN) in the filtered dataframe"
   ]
  },
  {
   "cell_type": "code",
   "execution_count": 360,
   "id": "b749318a-4775-494d-b396-62996767a74a",
   "metadata": {},
   "outputs": [
    {
     "data": {
      "text/plain": [
       "id                              0.000000\n",
       "member_id                       0.000000\n",
       "loan_amnt                       0.000000\n",
       "funded_amnt                     0.000000\n",
       "funded_amnt_inv                 0.000000\n",
       "                                 ...    \n",
       "tax_liens                       0.101097\n",
       "tot_hi_cred_lim               100.000000\n",
       "total_bal_ex_mort             100.000000\n",
       "total_bc_limit                100.000000\n",
       "total_il_high_credit_limit    100.000000\n",
       "Length: 111, dtype: float64"
      ]
     },
     "execution_count": 360,
     "metadata": {},
     "output_type": "execute_result"
    }
   ],
   "source": [
    "100*df_filtered.isnull().mean()"
   ]
  },
  {
   "cell_type": "markdown",
   "id": "13bfb263-be17-4065-b7b2-86354052432e",
   "metadata": {},
   "source": [
    "#### Display columns with missing data only"
   ]
  },
  {
   "cell_type": "code",
   "execution_count": 361,
   "id": "4fadebd3-5ba6-41c1-a66a-fdb6047dfd2d",
   "metadata": {},
   "outputs": [
    {
     "name": "stdout",
     "output_type": "stream",
     "text": [
      "emp_title 6.185032532337922\n",
      "emp_length 2.6777613603960906\n",
      "desc 32.47790134017679\n",
      "title 0.028514399771884805\n",
      "mths_since_last_delinq 64.55919330170828\n",
      "mths_since_last_record 92.8973222386396\n",
      "revol_util 0.12961090805402184\n",
      "last_pymnt_d 0.184047489436711\n",
      "next_pymnt_d 100.0\n",
      "last_credit_pull_d 0.005184436322160873\n",
      "collections_12_mths_ex_med 0.14516421702050444\n",
      "mths_since_last_major_derog 100.0\n",
      "annual_inc_joint 100.0\n",
      "dti_joint 100.0\n",
      "verification_status_joint 100.0\n",
      "tot_coll_amt 100.0\n",
      "tot_cur_bal 100.0\n",
      "open_acc_6m 100.0\n",
      "open_il_6m 100.0\n",
      "open_il_12m 100.0\n",
      "open_il_24m 100.0\n",
      "mths_since_rcnt_il 100.0\n",
      "total_bal_il 100.0\n",
      "il_util 100.0\n",
      "open_rv_12m 100.0\n",
      "open_rv_24m 100.0\n",
      "max_bal_bc 100.0\n",
      "all_util 100.0\n",
      "total_rev_hi_lim 100.0\n",
      "inq_fi 100.0\n",
      "total_cu_tl 100.0\n",
      "inq_last_12m 100.0\n",
      "acc_open_past_24mths 100.0\n",
      "avg_cur_bal 100.0\n",
      "bc_open_to_buy 100.0\n",
      "bc_util 100.0\n",
      "chargeoff_within_12_mths 0.14516421702050444\n",
      "mo_sin_old_il_acct 100.0\n",
      "mo_sin_old_rev_tl_op 100.0\n",
      "mo_sin_rcnt_rev_tl_op 100.0\n",
      "mo_sin_rcnt_tl 100.0\n",
      "mort_acc 100.0\n",
      "mths_since_recent_bc 100.0\n",
      "mths_since_recent_bc_dlq 100.0\n",
      "mths_since_recent_inq 100.0\n",
      "mths_since_recent_revol_delinq 100.0\n",
      "num_accts_ever_120_pd 100.0\n",
      "num_actv_bc_tl 100.0\n",
      "num_actv_rev_tl 100.0\n",
      "num_bc_sats 100.0\n",
      "num_bc_tl 100.0\n",
      "num_il_tl 100.0\n",
      "num_op_rev_tl 100.0\n",
      "num_rev_accts 100.0\n",
      "num_rev_tl_bal_gt_0 100.0\n",
      "num_sats 100.0\n",
      "num_tl_120dpd_2m 100.0\n",
      "num_tl_30dpd 100.0\n",
      "num_tl_90g_dpd_24m 100.0\n",
      "num_tl_op_past_12m 100.0\n",
      "pct_tl_nvr_dlq 100.0\n",
      "percent_bc_gt_75 100.0\n",
      "pub_rec_bankruptcies 1.8067760582730643\n",
      "tax_liens 0.10109650828213701\n",
      "tot_hi_cred_lim 100.0\n",
      "total_bal_ex_mort 100.0\n",
      "total_bc_limit 100.0\n",
      "total_il_high_credit_limit 100.0\n"
     ]
    }
   ],
   "source": [
    "null_value_mean = 100*df_filtered.isnull().mean()\n",
    "columns_to_display = null_value_mean[null_value_mean >0].index\n",
    "for column in columns_to_display:\n",
    "    print(column, null_value_mean[column])"
   ]
  },
  {
   "cell_type": "markdown",
   "id": "62e92f00-17c6-4e1c-a5fc-c1a79efcb263",
   "metadata": {},
   "source": [
    "#### Identify the missing value columns whose average missing percentage is greater than 50%"
   ]
  },
  {
   "cell_type": "code",
   "execution_count": 362,
   "id": "ca9d4dc9-aa7b-4a24-b373-0e24c21b0ca0",
   "metadata": {},
   "outputs": [
    {
     "name": "stdout",
     "output_type": "stream",
     "text": [
      "mths_since_last_delinq 64.55919330170828\n",
      "mths_since_last_record 92.8973222386396\n",
      "next_pymnt_d 100.0\n",
      "mths_since_last_major_derog 100.0\n",
      "annual_inc_joint 100.0\n",
      "dti_joint 100.0\n",
      "verification_status_joint 100.0\n",
      "tot_coll_amt 100.0\n",
      "tot_cur_bal 100.0\n",
      "open_acc_6m 100.0\n",
      "open_il_6m 100.0\n",
      "open_il_12m 100.0\n",
      "open_il_24m 100.0\n",
      "mths_since_rcnt_il 100.0\n",
      "total_bal_il 100.0\n",
      "il_util 100.0\n",
      "open_rv_12m 100.0\n",
      "open_rv_24m 100.0\n",
      "max_bal_bc 100.0\n",
      "all_util 100.0\n",
      "total_rev_hi_lim 100.0\n",
      "inq_fi 100.0\n",
      "total_cu_tl 100.0\n",
      "inq_last_12m 100.0\n",
      "acc_open_past_24mths 100.0\n",
      "avg_cur_bal 100.0\n",
      "bc_open_to_buy 100.0\n",
      "bc_util 100.0\n",
      "mo_sin_old_il_acct 100.0\n",
      "mo_sin_old_rev_tl_op 100.0\n",
      "mo_sin_rcnt_rev_tl_op 100.0\n",
      "mo_sin_rcnt_tl 100.0\n",
      "mort_acc 100.0\n",
      "mths_since_recent_bc 100.0\n",
      "mths_since_recent_bc_dlq 100.0\n",
      "mths_since_recent_inq 100.0\n",
      "mths_since_recent_revol_delinq 100.0\n",
      "num_accts_ever_120_pd 100.0\n",
      "num_actv_bc_tl 100.0\n",
      "num_actv_rev_tl 100.0\n",
      "num_bc_sats 100.0\n",
      "num_bc_tl 100.0\n",
      "num_il_tl 100.0\n",
      "num_op_rev_tl 100.0\n",
      "num_rev_accts 100.0\n",
      "num_rev_tl_bal_gt_0 100.0\n",
      "num_sats 100.0\n",
      "num_tl_120dpd_2m 100.0\n",
      "num_tl_30dpd 100.0\n",
      "num_tl_90g_dpd_24m 100.0\n",
      "num_tl_op_past_12m 100.0\n",
      "pct_tl_nvr_dlq 100.0\n",
      "percent_bc_gt_75 100.0\n",
      "tot_hi_cred_lim 100.0\n",
      "total_bal_ex_mort 100.0\n",
      "total_bc_limit 100.0\n",
      "total_il_high_credit_limit 100.0\n"
     ]
    }
   ],
   "source": [
    "columns_to_discard = null_value_mean[null_value_mean >50].index\n",
    "for column in columns_to_discard:\n",
    "    print(column, null_value_mean[column])"
   ]
  },
  {
   "cell_type": "markdown",
   "id": "ef6268bc-5faa-4e17-88a2-0b3a5faa004e",
   "metadata": {},
   "source": [
    "#### Drop the missing value columns whose average missing percentage is greater than 50%"
   ]
  },
  {
   "cell_type": "code",
   "execution_count": 363,
   "id": "f072a471-af4a-4353-8e22-79ffb7c1729d",
   "metadata": {},
   "outputs": [],
   "source": [
    "df_new = df_filtered.drop(columns=columns_to_discard, axis=1) #axis=1 represents dropping columns"
   ]
  },
  {
   "cell_type": "markdown",
   "id": "0565d91b-956b-42e0-9f97-21c745aaa681",
   "metadata": {},
   "source": [
    "#### Print the remaining columns after dropping null value columns from the dataframe"
   ]
  },
  {
   "cell_type": "code",
   "execution_count": 364,
   "id": "39cfec40-d069-4ebd-9f10-f0445aaa36c9",
   "metadata": {},
   "outputs": [
    {
     "data": {
      "text/html": [
       "<div>\n",
       "<style scoped>\n",
       "    .dataframe tbody tr th:only-of-type {\n",
       "        vertical-align: middle;\n",
       "    }\n",
       "\n",
       "    .dataframe tbody tr th {\n",
       "        vertical-align: top;\n",
       "    }\n",
       "\n",
       "    .dataframe thead th {\n",
       "        text-align: right;\n",
       "    }\n",
       "</style>\n",
       "<table border=\"1\" class=\"dataframe\">\n",
       "  <thead>\n",
       "    <tr style=\"text-align: right;\">\n",
       "      <th></th>\n",
       "      <th>id</th>\n",
       "      <th>member_id</th>\n",
       "      <th>loan_amnt</th>\n",
       "      <th>funded_amnt</th>\n",
       "      <th>funded_amnt_inv</th>\n",
       "      <th>term</th>\n",
       "      <th>int_rate</th>\n",
       "      <th>installment</th>\n",
       "      <th>grade</th>\n",
       "      <th>sub_grade</th>\n",
       "      <th>...</th>\n",
       "      <th>last_pymnt_amnt</th>\n",
       "      <th>last_credit_pull_d</th>\n",
       "      <th>collections_12_mths_ex_med</th>\n",
       "      <th>policy_code</th>\n",
       "      <th>application_type</th>\n",
       "      <th>acc_now_delinq</th>\n",
       "      <th>chargeoff_within_12_mths</th>\n",
       "      <th>delinq_amnt</th>\n",
       "      <th>pub_rec_bankruptcies</th>\n",
       "      <th>tax_liens</th>\n",
       "    </tr>\n",
       "  </thead>\n",
       "  <tbody>\n",
       "    <tr>\n",
       "      <th>0</th>\n",
       "      <td>1077501</td>\n",
       "      <td>1296599</td>\n",
       "      <td>5000</td>\n",
       "      <td>5000</td>\n",
       "      <td>4975.0</td>\n",
       "      <td>36 months</td>\n",
       "      <td>10.65%</td>\n",
       "      <td>162.87</td>\n",
       "      <td>B</td>\n",
       "      <td>B2</td>\n",
       "      <td>...</td>\n",
       "      <td>171.62</td>\n",
       "      <td>May-16</td>\n",
       "      <td>0.0</td>\n",
       "      <td>1</td>\n",
       "      <td>INDIVIDUAL</td>\n",
       "      <td>0</td>\n",
       "      <td>0.0</td>\n",
       "      <td>0</td>\n",
       "      <td>0.0</td>\n",
       "      <td>0.0</td>\n",
       "    </tr>\n",
       "    <tr>\n",
       "      <th>1</th>\n",
       "      <td>1077430</td>\n",
       "      <td>1314167</td>\n",
       "      <td>2500</td>\n",
       "      <td>2500</td>\n",
       "      <td>2500.0</td>\n",
       "      <td>60 months</td>\n",
       "      <td>15.27%</td>\n",
       "      <td>59.83</td>\n",
       "      <td>C</td>\n",
       "      <td>C4</td>\n",
       "      <td>...</td>\n",
       "      <td>119.66</td>\n",
       "      <td>Sep-13</td>\n",
       "      <td>0.0</td>\n",
       "      <td>1</td>\n",
       "      <td>INDIVIDUAL</td>\n",
       "      <td>0</td>\n",
       "      <td>0.0</td>\n",
       "      <td>0</td>\n",
       "      <td>0.0</td>\n",
       "      <td>0.0</td>\n",
       "    </tr>\n",
       "    <tr>\n",
       "      <th>2</th>\n",
       "      <td>1077175</td>\n",
       "      <td>1313524</td>\n",
       "      <td>2400</td>\n",
       "      <td>2400</td>\n",
       "      <td>2400.0</td>\n",
       "      <td>36 months</td>\n",
       "      <td>15.96%</td>\n",
       "      <td>84.33</td>\n",
       "      <td>C</td>\n",
       "      <td>C5</td>\n",
       "      <td>...</td>\n",
       "      <td>649.91</td>\n",
       "      <td>May-16</td>\n",
       "      <td>0.0</td>\n",
       "      <td>1</td>\n",
       "      <td>INDIVIDUAL</td>\n",
       "      <td>0</td>\n",
       "      <td>0.0</td>\n",
       "      <td>0</td>\n",
       "      <td>0.0</td>\n",
       "      <td>0.0</td>\n",
       "    </tr>\n",
       "    <tr>\n",
       "      <th>3</th>\n",
       "      <td>1076863</td>\n",
       "      <td>1277178</td>\n",
       "      <td>10000</td>\n",
       "      <td>10000</td>\n",
       "      <td>10000.0</td>\n",
       "      <td>36 months</td>\n",
       "      <td>13.49%</td>\n",
       "      <td>339.31</td>\n",
       "      <td>C</td>\n",
       "      <td>C1</td>\n",
       "      <td>...</td>\n",
       "      <td>357.48</td>\n",
       "      <td>Apr-16</td>\n",
       "      <td>0.0</td>\n",
       "      <td>1</td>\n",
       "      <td>INDIVIDUAL</td>\n",
       "      <td>0</td>\n",
       "      <td>0.0</td>\n",
       "      <td>0</td>\n",
       "      <td>0.0</td>\n",
       "      <td>0.0</td>\n",
       "    </tr>\n",
       "    <tr>\n",
       "      <th>5</th>\n",
       "      <td>1075269</td>\n",
       "      <td>1311441</td>\n",
       "      <td>5000</td>\n",
       "      <td>5000</td>\n",
       "      <td>5000.0</td>\n",
       "      <td>36 months</td>\n",
       "      <td>7.90%</td>\n",
       "      <td>156.46</td>\n",
       "      <td>A</td>\n",
       "      <td>A4</td>\n",
       "      <td>...</td>\n",
       "      <td>161.03</td>\n",
       "      <td>Jan-16</td>\n",
       "      <td>0.0</td>\n",
       "      <td>1</td>\n",
       "      <td>INDIVIDUAL</td>\n",
       "      <td>0</td>\n",
       "      <td>0.0</td>\n",
       "      <td>0</td>\n",
       "      <td>0.0</td>\n",
       "      <td>0.0</td>\n",
       "    </tr>\n",
       "  </tbody>\n",
       "</table>\n",
       "<p>5 rows × 54 columns</p>\n",
       "</div>"
      ],
      "text/plain": [
       "        id  member_id  loan_amnt  funded_amnt  funded_amnt_inv        term  \\\n",
       "0  1077501    1296599       5000         5000           4975.0   36 months   \n",
       "1  1077430    1314167       2500         2500           2500.0   60 months   \n",
       "2  1077175    1313524       2400         2400           2400.0   36 months   \n",
       "3  1076863    1277178      10000        10000          10000.0   36 months   \n",
       "5  1075269    1311441       5000         5000           5000.0   36 months   \n",
       "\n",
       "  int_rate  installment grade sub_grade  ... last_pymnt_amnt  \\\n",
       "0   10.65%       162.87     B        B2  ...          171.62   \n",
       "1   15.27%        59.83     C        C4  ...          119.66   \n",
       "2   15.96%        84.33     C        C5  ...          649.91   \n",
       "3   13.49%       339.31     C        C1  ...          357.48   \n",
       "5    7.90%       156.46     A        A4  ...          161.03   \n",
       "\n",
       "  last_credit_pull_d collections_12_mths_ex_med  policy_code application_type  \\\n",
       "0             May-16                        0.0            1       INDIVIDUAL   \n",
       "1             Sep-13                        0.0            1       INDIVIDUAL   \n",
       "2             May-16                        0.0            1       INDIVIDUAL   \n",
       "3             Apr-16                        0.0            1       INDIVIDUAL   \n",
       "5             Jan-16                        0.0            1       INDIVIDUAL   \n",
       "\n",
       "  acc_now_delinq chargeoff_within_12_mths delinq_amnt pub_rec_bankruptcies  \\\n",
       "0              0                      0.0           0                  0.0   \n",
       "1              0                      0.0           0                  0.0   \n",
       "2              0                      0.0           0                  0.0   \n",
       "3              0                      0.0           0                  0.0   \n",
       "5              0                      0.0           0                  0.0   \n",
       "\n",
       "  tax_liens  \n",
       "0       0.0  \n",
       "1       0.0  \n",
       "2       0.0  \n",
       "3       0.0  \n",
       "5       0.0  \n",
       "\n",
       "[5 rows x 54 columns]"
      ]
     },
     "execution_count": 364,
     "metadata": {},
     "output_type": "execute_result"
    }
   ],
   "source": [
    "df_new.head()"
   ]
  },
  {
   "cell_type": "markdown",
   "id": "28d9b8e4-1789-4deb-ae76-e5880faa1301",
   "metadata": {},
   "source": [
    "#### Print the no. of records present after changes done so far (excluding headers)"
   ]
  },
  {
   "cell_type": "code",
   "execution_count": 365,
   "id": "5d0e341d-5f05-4c48-830a-190295287977",
   "metadata": {},
   "outputs": [
    {
     "data": {
      "text/plain": [
       "38576"
      ]
     },
     "execution_count": 365,
     "metadata": {},
     "output_type": "execute_result"
    }
   ],
   "source": [
    "df_new.shape[0]-1"
   ]
  },
  {
   "cell_type": "markdown",
   "id": "fd7d81c2-5cea-4354-9dea-da670434b004",
   "metadata": {},
   "source": [
    "#### Identify the columns whose missing value percentage is under acceptable range"
   ]
  },
  {
   "cell_type": "code",
   "execution_count": 366,
   "id": "f2e32984-9e37-41d0-b906-6d6f2bb0fcff",
   "metadata": {},
   "outputs": [
    {
     "name": "stdout",
     "output_type": "stream",
     "text": [
      "emp_title 6.185032532337922 float64\n",
      "emp_length 2.6777613603960906 float64\n",
      "desc 32.47790134017679 float64\n",
      "title 0.028514399771884805 float64\n",
      "revol_util 0.12961090805402184 float64\n",
      "last_pymnt_d 0.184047489436711 float64\n",
      "last_credit_pull_d 0.005184436322160873 float64\n",
      "collections_12_mths_ex_med 0.14516421702050444 float64\n",
      "chargeoff_within_12_mths 0.14516421702050444 float64\n",
      "pub_rec_bankruptcies 1.8067760582730643 float64\n",
      "tax_liens 0.10109650828213701 float64\n"
     ]
    }
   ],
   "source": [
    "null_value_mean = 100*df_new.isnull().mean()\n",
    "columns_to_display = null_value_mean[null_value_mean >0].index\n",
    "for column in columns_to_display:\n",
    "    print(column, null_value_mean[column], null_value_mean[column].dtype)"
   ]
  },
  {
   "cell_type": "markdown",
   "id": "2bfe1c5f-bed6-4597-ae23-ba1eb6ee6580",
   "metadata": {},
   "source": [
    "#### If above column list is observed, they can be divided as follows:\n",
    "\n",
    "Numerical:\n",
    "1. revol_util\n",
    "2. collections_12_mths_ex_med\n",
    "3. chargeoff_within_12_mths\n",
    "4. pub_rec_bankruptcies\n",
    "5. tax_liens\n",
    "\n",
    "Categorical:\n",
    "1. emp_title\n",
    "2. emp_length\n",
    "3. desc\n",
    "4. title\n",
    "5. last_pymnt_d (date)\n",
    "6. last_credit_pull_d (date)"
   ]
  },
  {
   "cell_type": "markdown",
   "id": "67a33da8-8adc-4cc1-a20f-ed52af7fd058",
   "metadata": {},
   "source": [
    "#### The column \"revol_util\" is a percentile column representing revolving line utilization rate and has '%' in the values. The range is 0.01% to 99.90%. Hence, removing the character '%' from the records and converting into float so that it can be considered a numeric column. Also, there are missing value records under \"revol_util\". Hence, they can be imputed with median."
   ]
  },
  {
   "cell_type": "code",
   "execution_count": 367,
   "id": "53fec026-eca1-4a80-887b-87f221f78a15",
   "metadata": {},
   "outputs": [
    {
     "name": "stdout",
     "output_type": "stream",
     "text": [
      "emp_title 6.185032532337922\n",
      "emp_length 2.6777613603960906\n",
      "desc 32.47790134017679\n",
      "title 0.028514399771884805\n",
      "last_pymnt_d 0.184047489436711\n",
      "last_credit_pull_d 0.005184436322160873\n",
      "collections_12_mths_ex_med 0.14516421702050444\n",
      "chargeoff_within_12_mths 0.14516421702050444\n",
      "pub_rec_bankruptcies 1.8067760582730643\n",
      "tax_liens 0.10109650828213701\n"
     ]
    }
   ],
   "source": [
    "df_new[\"revol_util\"] = df_new[\"revol_util\"].str.replace('%','', regex=False)\n",
    "df_new[\"revol_util\"] = df_new[\"revol_util\"].astype(float)\n",
    "med = df_new[\"revol_util\"].median()\n",
    "df_new[\"revol_util\"] = df_new[\"revol_util\"].fillna(med)\n",
    "null_value_mean = 100*df_new.isnull().mean()\n",
    "columns_to_display = null_value_mean[null_value_mean >0].index\n",
    "for column in columns_to_display:\n",
    "    print(column, null_value_mean[column])"
   ]
  },
  {
   "cell_type": "markdown",
   "id": "a8a9c19b-b310-41ae-895a-009a4e90ba6c",
   "metadata": {},
   "source": [
    "#### After observing the data again, no amount was collected from borrowers excluding medical expenses. It is either zero or empty in the dataset. Hence, the column \"collections_12_mths_ex_med\" can be dropped."
   ]
  },
  {
   "cell_type": "code",
   "execution_count": 368,
   "id": "f3beceaf-e5c6-45b0-823b-070fce45030d",
   "metadata": {},
   "outputs": [
    {
     "name": "stdout",
     "output_type": "stream",
     "text": [
      "emp_title 6.185032532337922\n",
      "emp_length 2.6777613603960906\n",
      "desc 32.47790134017679\n",
      "title 0.028514399771884805\n",
      "last_pymnt_d 0.184047489436711\n",
      "last_credit_pull_d 0.005184436322160873\n",
      "chargeoff_within_12_mths 0.14516421702050444\n",
      "pub_rec_bankruptcies 1.8067760582730643\n",
      "tax_liens 0.10109650828213701\n"
     ]
    }
   ],
   "source": [
    "df_new = df_new.drop(columns=['collections_12_mths_ex_med'])\n",
    "null_value_mean = 100*df_new.isnull().mean()\n",
    "columns_to_display = null_value_mean[null_value_mean >0].index\n",
    "for column in columns_to_display:\n",
    "    print(column, null_value_mean[column])"
   ]
  },
  {
   "cell_type": "markdown",
   "id": "3f64977a-9b07-419a-9339-f5c8e21435d9",
   "metadata": {},
   "source": [
    "#### After observing the data again, no customer faced a charge-off. Hence, the column \"chargeoff_within_12_mths\" can be dropped."
   ]
  },
  {
   "cell_type": "code",
   "execution_count": 369,
   "id": "69538dd7-5184-457a-aa56-610af72b6aee",
   "metadata": {},
   "outputs": [
    {
     "name": "stdout",
     "output_type": "stream",
     "text": [
      "emp_title 6.185032532337922\n",
      "emp_length 2.6777613603960906\n",
      "desc 32.47790134017679\n",
      "title 0.028514399771884805\n",
      "last_pymnt_d 0.184047489436711\n",
      "last_credit_pull_d 0.005184436322160873\n",
      "pub_rec_bankruptcies 1.8067760582730643\n",
      "tax_liens 0.10109650828213701\n"
     ]
    }
   ],
   "source": [
    "df_new = df_new.drop(columns=['chargeoff_within_12_mths'])\n",
    "null_value_mean = 100*df_new.isnull().mean()\n",
    "columns_to_display = null_value_mean[null_value_mean >0].index\n",
    "for column in columns_to_display:\n",
    "    print(column, null_value_mean[column])"
   ]
  },
  {
   "cell_type": "markdown",
   "id": "0f272d33-cd9b-4c2e-8f0f-8d3dab22a193",
   "metadata": {},
   "source": [
    "#### Imputing the column \"pub_rec_bankruptcies\" and defaulting missing values to 0 as the column contains only numbers (0,1 & 2) and empty values. Hence, imputing with median."
   ]
  },
  {
   "cell_type": "code",
   "execution_count": 370,
   "id": "171f1c64-ee10-45a1-ae96-567f1e493ad0",
   "metadata": {},
   "outputs": [
    {
     "name": "stdout",
     "output_type": "stream",
     "text": [
      "emp_title 6.185032532337922\n",
      "emp_length 2.6777613603960906\n",
      "desc 32.47790134017679\n",
      "title 0.028514399771884805\n",
      "last_pymnt_d 0.184047489436711\n",
      "last_credit_pull_d 0.005184436322160873\n",
      "tax_liens 0.10109650828213701\n"
     ]
    }
   ],
   "source": [
    "med = df_new[\"pub_rec_bankruptcies\"].median()\n",
    "df_new[\"pub_rec_bankruptcies\"] = df_new[\"pub_rec_bankruptcies\"].fillna(med)\n",
    "null_value_mean = 100*df_new.isnull().mean()\n",
    "columns_to_display = null_value_mean[null_value_mean >0].index\n",
    "for column in columns_to_display:\n",
    "    print(column, null_value_mean[column])"
   ]
  },
  {
   "cell_type": "markdown",
   "id": "c434880b-c7cf-4268-8fea-99daf704cb0a",
   "metadata": {},
   "source": [
    "#### The column \"tax_liens\" is either empty or zero. Hence, dropping this column as it wouldn't be useful in next steps of analysis."
   ]
  },
  {
   "cell_type": "code",
   "execution_count": 371,
   "id": "315e4f71-c5a6-4628-8150-4d02344e680e",
   "metadata": {},
   "outputs": [
    {
     "name": "stdout",
     "output_type": "stream",
     "text": [
      "emp_title 6.185032532337922\n",
      "emp_length 2.6777613603960906\n",
      "desc 32.47790134017679\n",
      "title 0.028514399771884805\n",
      "last_pymnt_d 0.184047489436711\n",
      "last_credit_pull_d 0.005184436322160873\n"
     ]
    }
   ],
   "source": [
    "df_new = df_new.drop(columns=['tax_liens'])\n",
    "null_value_mean = 100*df_new.isnull().mean()\n",
    "columns_to_display = null_value_mean[null_value_mean >0].index\n",
    "for column in columns_to_display:\n",
    "    print(column, null_value_mean[column])"
   ]
  },
  {
   "cell_type": "markdown",
   "id": "75caacfb-1ce4-40d1-a4d8-77d33bb929aa",
   "metadata": {},
   "source": [
    "#### The columns \"emp_title\", \"emp_length\", \"desc\" & \"title\" being categorical, imputing them and replacing their null values with \"NA\""
   ]
  },
  {
   "cell_type": "code",
   "execution_count": 372,
   "id": "4994a65e-042e-42d2-94e1-b0569e3503dc",
   "metadata": {},
   "outputs": [
    {
     "name": "stdout",
     "output_type": "stream",
     "text": [
      "last_pymnt_d 0.184047489436711\n",
      "last_credit_pull_d 0.005184436322160873\n"
     ]
    }
   ],
   "source": [
    "df_new[\"emp_title\"] = df_new[\"emp_title\"].fillna('NA')\n",
    "df_new[\"emp_length\"] = df_new[\"emp_length\"].fillna('NA')\n",
    "df_new[\"desc\"] = df_new[\"desc\"].fillna('NA')\n",
    "df_new[\"title\"] = df_new[\"title\"].fillna('NA')\n",
    "null_value_mean = 100*df_new.isnull().mean()\n",
    "columns_to_display = null_value_mean[null_value_mean >0].index\n",
    "for column in columns_to_display:\n",
    "    print(column, null_value_mean[column])"
   ]
  },
  {
   "cell_type": "markdown",
   "id": "2d395bd1-67c2-416d-ba06-88636325c411",
   "metadata": {},
   "source": [
    "#### The 2 columns \"last_pymnt_d\" and \"last_credit_pull_d\" are date fiels in DD-Month format. Also, they have few missing values which can be replaced with \"NA\""
   ]
  },
  {
   "cell_type": "code",
   "execution_count": 373,
   "id": "54957a43-007d-4452-857f-2ab4ec88dc2c",
   "metadata": {},
   "outputs": [],
   "source": [
    "df_new[\"last_pymnt_d\"] = df_new[\"last_pymnt_d\"].fillna('NA')\n",
    "df_new[\"last_credit_pull_d\"] = df_new[\"last_credit_pull_d\"].fillna('NA')\n",
    "null_value_mean = 100*df_new.isnull().mean()\n",
    "columns_to_display = null_value_mean[null_value_mean >0].index\n",
    "for column in columns_to_display:\n",
    "    print(column, null_value_mean[column])"
   ]
  },
  {
   "cell_type": "markdown",
   "id": "a79ae02c-d59e-4cb0-a723-f2042313990e",
   "metadata": {},
   "source": [
    "#### All the missing value columns were successfully addressed and there are no missing value fields in the dataset anymore"
   ]
  },
  {
   "cell_type": "code",
   "execution_count": 374,
   "id": "2cbfc996-132e-43dd-8367-ca56aecdb184",
   "metadata": {},
   "outputs": [
    {
     "data": {
      "text/plain": [
       "id                         0.0\n",
       "member_id                  0.0\n",
       "loan_amnt                  0.0\n",
       "funded_amnt                0.0\n",
       "funded_amnt_inv            0.0\n",
       "term                       0.0\n",
       "int_rate                   0.0\n",
       "installment                0.0\n",
       "grade                      0.0\n",
       "sub_grade                  0.0\n",
       "emp_title                  0.0\n",
       "emp_length                 0.0\n",
       "home_ownership             0.0\n",
       "annual_inc                 0.0\n",
       "verification_status        0.0\n",
       "issue_d                    0.0\n",
       "loan_status                0.0\n",
       "pymnt_plan                 0.0\n",
       "url                        0.0\n",
       "desc                       0.0\n",
       "purpose                    0.0\n",
       "title                      0.0\n",
       "zip_code                   0.0\n",
       "addr_state                 0.0\n",
       "dti                        0.0\n",
       "delinq_2yrs                0.0\n",
       "earliest_cr_line           0.0\n",
       "inq_last_6mths             0.0\n",
       "open_acc                   0.0\n",
       "pub_rec                    0.0\n",
       "revol_bal                  0.0\n",
       "revol_util                 0.0\n",
       "total_acc                  0.0\n",
       "initial_list_status        0.0\n",
       "out_prncp                  0.0\n",
       "out_prncp_inv              0.0\n",
       "total_pymnt                0.0\n",
       "total_pymnt_inv            0.0\n",
       "total_rec_prncp            0.0\n",
       "total_rec_int              0.0\n",
       "total_rec_late_fee         0.0\n",
       "recoveries                 0.0\n",
       "collection_recovery_fee    0.0\n",
       "last_pymnt_d               0.0\n",
       "last_pymnt_amnt            0.0\n",
       "last_credit_pull_d         0.0\n",
       "policy_code                0.0\n",
       "application_type           0.0\n",
       "acc_now_delinq             0.0\n",
       "delinq_amnt                0.0\n",
       "pub_rec_bankruptcies       0.0\n",
       "dtype: float64"
      ]
     },
     "execution_count": 374,
     "metadata": {},
     "output_type": "execute_result"
    }
   ],
   "source": [
    "100*df_new.isnull().mean()"
   ]
  },
  {
   "cell_type": "markdown",
   "id": "e2d627a2-7246-4510-a23d-0f5f72c49346",
   "metadata": {},
   "source": [
    "#### Identification of unnecessary columns\n",
    "- The column \"pymnt_plan\" has only one default value - 'n'. After referring data dictionary, it can be dropped as it has no use.\n",
    "- The column \"initial_list_status\" has only one default value - 'f'. Since it would be of no use for EDA and next steps, it can be dropped.\n",
    "- The columns \"out_prncp\" and \"out_prncp_inv\" are all zeros be default. Since they are of no use, they can be dropped.\n",
    "- The column \"policy_code\" has only one default value - 1 which indicates that all borrowers are under public category. Since it would be of no use for EDA and next steps, it can be dropped.\n",
    "- All the borrowers are \"INDIVIDUAL\" as per the field \"application_type\". Being a default valued column, it can be dropped.\n",
    "- The columns \"acc_now_delinq\" and \"delinq_amnt\" are all zeros be default. Since they are of no use, they can be dropped."
   ]
  },
  {
   "cell_type": "code",
   "execution_count": 375,
   "id": "17377c44-f9b1-4c2a-9518-b24dbae28fe0",
   "metadata": {},
   "outputs": [],
   "source": [
    "#Dropping the unnecessary columns\n",
    "df_new = df_new.drop(columns=['pymnt_plan','initial_list_status','out_prncp','out_prncp_inv','policy_code','application_type','acc_now_delinq','delinq_amnt'])"
   ]
  },
  {
   "cell_type": "markdown",
   "id": "4532f418-46fb-4144-b018-25e8cf26f8d4",
   "metadata": {},
   "source": [
    "#### Displaying the shape of dataset after changes done so far"
   ]
  },
  {
   "cell_type": "code",
   "execution_count": 376,
   "id": "d8938029-3482-42a8-aa5a-9094300b2942",
   "metadata": {},
   "outputs": [
    {
     "data": {
      "text/plain": [
       "(38577, 43)"
      ]
     },
     "execution_count": 376,
     "metadata": {},
     "output_type": "execute_result"
    }
   ],
   "source": [
    "df_new.shape"
   ]
  },
  {
   "cell_type": "markdown",
   "id": "d8a1aaa1-17d8-45c3-bdc8-a43aedaa2a0a",
   "metadata": {},
   "source": [
    "#### Further data cleansing\n",
    "The column \"int_rate\" is a percentile column representing loan interest rate and has '%' in the values. Hence, removing the character '%' from the records and converting into float so that it can be considered a numeric column."
   ]
  },
  {
   "cell_type": "code",
   "execution_count": 377,
   "id": "5e5f057f-40e6-42fd-8719-6fcefa6788b6",
   "metadata": {},
   "outputs": [
    {
     "data": {
      "text/plain": [
       "0        10.65\n",
       "1        15.27\n",
       "2        15.96\n",
       "3        13.49\n",
       "5         7.90\n",
       "         ...  \n",
       "39712     8.07\n",
       "39713    10.28\n",
       "39714     8.07\n",
       "39715     7.43\n",
       "39716    13.75\n",
       "Name: int_rate, Length: 38577, dtype: object"
      ]
     },
     "execution_count": 377,
     "metadata": {},
     "output_type": "execute_result"
    }
   ],
   "source": [
    "#removing % character from the column\n",
    "df_new[\"int_rate\"] = df_new[\"int_rate\"].str.replace('%','', regex=False)\n",
    "df_new[\"int_rate\"]"
   ]
  },
  {
   "cell_type": "markdown",
   "id": "d976d387-b324-48a6-8497-768f1c7018df",
   "metadata": {},
   "source": [
    "#### Renaming columns to avoid ambiguity during EDA."
   ]
  },
  {
   "cell_type": "code",
   "execution_count": 378,
   "id": "8b8d50e5-44d1-4838-be33-a4b410b33e05",
   "metadata": {},
   "outputs": [
    {
     "data": {
      "text/plain": [
       "id                         0.0\n",
       "member_id                  0.0\n",
       "loan_amnt                  0.0\n",
       "funded_amnt                0.0\n",
       "funded_amnt_inv            0.0\n",
       "term                       0.0\n",
       "int_rate                   0.0\n",
       "installment                0.0\n",
       "grade                      0.0\n",
       "sub_grade                  0.0\n",
       "emp_title                  0.0\n",
       "emp_length                 0.0\n",
       "home_ownership             0.0\n",
       "annual_inc                 0.0\n",
       "verification_status        0.0\n",
       "issue_d                    0.0\n",
       "loan_status                0.0\n",
       "url                        0.0\n",
       "desc                       0.0\n",
       "purpose                    0.0\n",
       "title                      0.0\n",
       "zip_code                   0.0\n",
       "addr_state                 0.0\n",
       "dti                        0.0\n",
       "delinq_2yrs                0.0\n",
       "earliest_cr_line           0.0\n",
       "inq_last_6mths             0.0\n",
       "open_acc                   0.0\n",
       "pub_rec                    0.0\n",
       "revol_bal                  0.0\n",
       "revol_util                 0.0\n",
       "total_acc                  0.0\n",
       "total_pymnt                0.0\n",
       "total_pymnt_inv            0.0\n",
       "total_rec_prncp            0.0\n",
       "total_rec_int              0.0\n",
       "total_rec_late_fee         0.0\n",
       "recoveries                 0.0\n",
       "collection_recovery_fee    0.0\n",
       "last_pymnt_d               0.0\n",
       "last_pymnt_amnt            0.0\n",
       "last_credit_pull_d         0.0\n",
       "pub_rec_bankruptcies       0.0\n",
       "dtype: float64"
      ]
     },
     "execution_count": 378,
     "metadata": {},
     "output_type": "execute_result"
    }
   ],
   "source": [
    "100*df_new.isnull().mean()"
   ]
  },
  {
   "cell_type": "code",
   "execution_count": 379,
   "id": "4eb85c04-f353-43f5-9901-dd2a5b811759",
   "metadata": {},
   "outputs": [],
   "source": [
    "#Changing column names to more meaningful names\n",
    "df_new.rename(columns={'id': 'ID', \n",
    "                       'member_id': 'Member_ID', \n",
    "                       'loan_amnt': 'Loan_Amount', \n",
    "                       'funded_amnt': 'Funded_Amount',\n",
    "                       'funded_amnt_inv': 'Funded_Amount_Investor',\n",
    "\t\t\t\t\t   'term': 'Tenure_In_Months',\n",
    "\t\t\t\t\t   'int_rate': 'Interest_Rate',\n",
    "\t\t\t\t\t   'installment': 'Installment_Amount',\n",
    "\t\t\t\t\t   'grade': 'Grade',\n",
    "\t\t\t\t\t   'sub_grade': 'Sub_Grade',\n",
    "\t\t\t\t\t   'emp_title': 'Employee_Job_Title',\n",
    "\t\t\t\t\t   'emp_length': 'Employee_Tenure_In_Years',\n",
    "\t\t\t\t\t   'home_ownership': 'Home_Ownership',\n",
    "\t\t\t\t\t   'annual_inc': 'Annual_Income',\n",
    "\t\t\t\t\t   'verification_status': 'Verification_Status',\n",
    "\t\t\t\t\t   'issue_d': 'Issue_Date',\n",
    "\t\t\t\t\t   'loan_status': 'Loan_Status',\n",
    "\t\t\t\t\t   'url': 'URL',\n",
    "\t\t\t\t\t   'desc': 'Borrower_Description',\n",
    "\t\t\t\t\t   'purpose': 'Purpose_of_Loan',\n",
    "\t\t\t\t\t   'title': 'Borrower_Loan_Title',\n",
    "\t\t\t\t\t   'zip_code': 'ZIP_Code',\n",
    "\t\t\t\t\t   'addr_state': 'Borrower_State',\n",
    "\t\t\t\t\t   'dti': 'Debt_To_Income_Ratio',\n",
    "\t\t\t\t\t   'delinq_2yrs': 'Delinquency_For_Past_2_Years',\n",
    "\t\t\t\t\t   'earliest_cr_line': 'Earliest_Reported_Credit_Line',\n",
    "\t\t\t\t\t   'inq_last_6mths': 'Inquiries_In_Last_6_Months',\n",
    "\t\t\t\t\t   'open_acc': 'Open_Credit_Lines',\n",
    "\t\t\t\t\t   'pub_rec': 'Derogatory_Public_Records',\n",
    "\t\t\t\t\t   'revol_bal': 'Total_Credit_Revolving_Balance',\n",
    "\t\t\t\t\t   'revol_util': 'Revolving_Line_Utilization_Rate',\n",
    "\t\t\t\t\t   'total_acc': 'Total_No_Of_Credit_Lines',\n",
    "\t\t\t\t\t   'total_pymnt': 'Total_Payments_Received',\n",
    "\t\t\t\t\t   'total_pymnt_inv': 'Total_Payments_Received_Investor',\n",
    "\t\t\t\t\t   'total_rec_prncp': 'Principal_Received_To_Date',\n",
    "\t\t\t\t\t   'total_rec_int': 'Interest_Received_To_Date',\n",
    "\t\t\t\t\t   'total_rec_late_fee': 'Late_Fees_Received_To_Date',\n",
    "\t\t\t\t\t   'recoveries': 'Recoveries',\n",
    "\t\t\t\t\t   'collection_recovery_fee': 'Collection_Recovery_Fee',\n",
    "\t\t\t\t\t   'last_pymnt_d': 'Last_Payment_Received_On',\n",
    "\t\t\t\t\t   'last_pymnt_amnt': 'Last_Received_Payment_Amount',\n",
    "\t\t\t\t\t   'last_credit_pull_d': 'Last_LC_Pulled_On',\n",
    "\t\t\t\t\t   'pub_rec_bankruptcies': 'No_Of_Bankruptcies'\n",
    "\t\t\t\t\t   }, inplace=True)"
   ]
  },
  {
   "cell_type": "markdown",
   "id": "f3457a0a-e963-4540-b086-15ba7ac27f63",
   "metadata": {},
   "source": [
    "#### Display new colums"
   ]
  },
  {
   "cell_type": "code",
   "execution_count": 380,
   "id": "0ec7e400-335a-4704-a550-57b6078e6c4d",
   "metadata": {},
   "outputs": [
    {
     "data": {
      "text/plain": [
       "ID                                  0.0\n",
       "Member_ID                           0.0\n",
       "Loan_Amount                         0.0\n",
       "Funded_Amount                       0.0\n",
       "Funded_Amount_Investor              0.0\n",
       "Tenure_In_Months                    0.0\n",
       "Interest_Rate                       0.0\n",
       "Installment_Amount                  0.0\n",
       "Grade                               0.0\n",
       "Sub_Grade                           0.0\n",
       "Employee_Job_Title                  0.0\n",
       "Employee_Tenure_In_Years            0.0\n",
       "Home_Ownership                      0.0\n",
       "Annual_Income                       0.0\n",
       "Verification_Status                 0.0\n",
       "Issue_Date                          0.0\n",
       "Loan_Status                         0.0\n",
       "URL                                 0.0\n",
       "Borrower_Description                0.0\n",
       "Purpose_of_Loan                     0.0\n",
       "Borrower_Loan_Title                 0.0\n",
       "ZIP_Code                            0.0\n",
       "Borrower_State                      0.0\n",
       "Debt_To_Income_Ratio                0.0\n",
       "Delinquency_For_Past_2_Years        0.0\n",
       "Earliest_Reported_Credit_Line       0.0\n",
       "Inquiries_In_Last_6_Months          0.0\n",
       "Open_Credit_Lines                   0.0\n",
       "Derogatory_Public_Records           0.0\n",
       "Total_Credit_Revolving_Balance      0.0\n",
       "Revolving_Line_Utilization_Rate     0.0\n",
       "Total_No_Of_Credit_Lines            0.0\n",
       "Total_Payments_Received             0.0\n",
       "Total_Payments_Received_Investor    0.0\n",
       "Principal_Received_To_Date          0.0\n",
       "Interest_Received_To_Date           0.0\n",
       "Late_Fees_Received_To_Date          0.0\n",
       "Recoveries                          0.0\n",
       "Collection_Recovery_Fee             0.0\n",
       "Last_Payment_Received_On            0.0\n",
       "Last_Received_Payment_Amount        0.0\n",
       "Last_LC_Pulled_On                   0.0\n",
       "No_Of_Bankruptcies                  0.0\n",
       "dtype: float64"
      ]
     },
     "execution_count": 380,
     "metadata": {},
     "output_type": "execute_result"
    }
   ],
   "source": [
    "100*df_new.isnull().mean()"
   ]
  },
  {
   "cell_type": "markdown",
   "id": "f84c42ab-ed5e-4f70-88dd-eff492d5fe9f",
   "metadata": {},
   "source": [
    "#### Outlier Identification\n",
    "Out of pending 43 columns, 8 columns were identified as outliers because of their distribution pattern. Findings are shown below.\n",
    "  1. \"Loan_Amount\" - Most of the loan amounts present in the dataset are as low as USD 500 and as high as USD 35,000. However, most of the amount figures are inclined towards lower amounts which makes this column as outlier.\n",
    "  2. \"Funded_Amount\" - Follows a similar distribution to the \"Loan_Amount\".\n",
    "  3. \"Funded_Amount_Investor\" - Follows a similar distribution to the \"Funded_Amount\".\n",
    "  4. \"Interest_Rate\" - Ranges between 5% and 25%. However, most interest rates lie between 5% and 20%.\n",
    "  5. \"Annual_Income\" - Contains both extreme low and high incomes.\n",
    "  6. \"Total_Credit_Revolving_Balance\" - As low as USD 0 and as high as nearly USD 150,000. But most of the outliers lean towards lower revolving balances.\n",
    "  7. \"Total_Payments_Received\" - Contains both extreme low and high payments.\n",
    "  8. \"Total_Payments_Received_Investor\" - Follows a similar distribution to the \"Total_Payments_Received\"."
   ]
  },
  {
   "cell_type": "markdown",
   "id": "219d1469-2217-48e7-bce3-71d3bad83a2c",
   "metadata": {},
   "source": [
    "#### Outlier handling recommendations\n",
    "1. \"Loan_Amount\" - It would be better if maximum loan amount is capped to avoid anomalies during investigation on higher loan amounts.\n",
    "2. \"Funded_Amount\" - Recommended to cap maximum funded amount for analysis on big amounts.\n",
    "3. \"Funded_Amount_Investor\" - Similar recommendation like \"Funded_Amount\", maximum amount should be capped.\n",
    "4. \"Interest_Rate\" - Need to verify high interest rates for accuracy.\n",
    "5. \"Annual_Income\" - Similar recommendation like \"Funded_Amount\", highest income should be capped.\n",
    "6. \"Total_Credit_Revolving_Balance\" - Huge balances can be capped for better understanding.\n",
    "7. \"Total_Payments_Received\" - Need to consider capping the total payment values or investigating the reasons behind very high payments.\n",
    "8. \"Total_Payments_Received_Investor\" - Similar recommendation like \"Total_Payments_Received\", highest payments should be capped."
   ]
  },
  {
   "cell_type": "markdown",
   "id": "d598c488-9001-4849-80e4-488f10465232",
   "metadata": {},
   "source": [
    "### Handling of outliers"
   ]
  },
  {
   "cell_type": "code",
   "execution_count": 381,
   "id": "00e2c932-2b74-43fb-bdd6-1da012aaeb3d",
   "metadata": {},
   "outputs": [
    {
     "ename": "TypeError",
     "evalue": "unsupported operand type(s) for -: 'str' and 'str'",
     "output_type": "error",
     "traceback": [
      "\u001b[0;31m---------------------------------------------------------------------------\u001b[0m",
      "\u001b[0;31mTypeError\u001b[0m                                 Traceback (most recent call last)",
      "Cell \u001b[0;32mIn[381], line 13\u001b[0m\n\u001b[1;32m     11\u001b[0m \u001b[38;5;66;03m#Capping\u001b[39;00m\n\u001b[1;32m     12\u001b[0m \u001b[38;5;28;01mfor\u001b[39;00m column \u001b[38;5;129;01min\u001b[39;00m modifier_columns:\n\u001b[0;32m---> 13\u001b[0m     df_new \u001b[38;5;241m=\u001b[39m \u001b[43moutlier_adj\u001b[49m\u001b[43m(\u001b[49m\u001b[43mdf_new\u001b[49m\u001b[43m,\u001b[49m\u001b[43m \u001b[49m\u001b[43mcolumn\u001b[49m\u001b[43m)\u001b[49m\n\u001b[1;32m     15\u001b[0m \u001b[38;5;66;03m#Verifying the values\u001b[39;00m\n\u001b[1;32m     16\u001b[0m capped_values \u001b[38;5;241m=\u001b[39m data[modifier_columns]\u001b[38;5;241m.\u001b[39mmax()\n",
      "Cell \u001b[0;32mIn[381], line 3\u001b[0m, in \u001b[0;36moutlier_adj\u001b[0;34m(df, column)\u001b[0m\n\u001b[1;32m      2\u001b[0m \u001b[38;5;28;01mdef\u001b[39;00m \u001b[38;5;21moutlier_adj\u001b[39m(df, column):\n\u001b[0;32m----> 3\u001b[0m     percentile_95 \u001b[38;5;241m=\u001b[39m \u001b[43mdf\u001b[49m\u001b[43m[\u001b[49m\u001b[43mcolumn\u001b[49m\u001b[43m]\u001b[49m\u001b[38;5;241;43m.\u001b[39;49m\u001b[43mquantile\u001b[49m\u001b[43m(\u001b[49m\u001b[38;5;241;43m0.95\u001b[39;49m\u001b[43m)\u001b[49m\n\u001b[1;32m      4\u001b[0m     df[column] \u001b[38;5;241m=\u001b[39m df[column]\u001b[38;5;241m.\u001b[39mapply(\u001b[38;5;28;01mlambda\u001b[39;00m x: \u001b[38;5;28mmin\u001b[39m(x, percentile_95))\n\u001b[1;32m      5\u001b[0m     \u001b[38;5;28;01mreturn\u001b[39;00m df\n",
      "File \u001b[0;32m/Library/Frameworks/Python.framework/Versions/3.12/lib/python3.12/site-packages/pandas/core/series.py:2877\u001b[0m, in \u001b[0;36mSeries.quantile\u001b[0;34m(self, q, interpolation)\u001b[0m\n\u001b[1;32m   2873\u001b[0m \u001b[38;5;66;03m# We dispatch to DataFrame so that core.internals only has to worry\u001b[39;00m\n\u001b[1;32m   2874\u001b[0m \u001b[38;5;66;03m#  about 2D cases.\u001b[39;00m\n\u001b[1;32m   2875\u001b[0m df \u001b[38;5;241m=\u001b[39m \u001b[38;5;28mself\u001b[39m\u001b[38;5;241m.\u001b[39mto_frame()\n\u001b[0;32m-> 2877\u001b[0m result \u001b[38;5;241m=\u001b[39m \u001b[43mdf\u001b[49m\u001b[38;5;241;43m.\u001b[39;49m\u001b[43mquantile\u001b[49m\u001b[43m(\u001b[49m\u001b[43mq\u001b[49m\u001b[38;5;241;43m=\u001b[39;49m\u001b[43mq\u001b[49m\u001b[43m,\u001b[49m\u001b[43m \u001b[49m\u001b[43minterpolation\u001b[49m\u001b[38;5;241;43m=\u001b[39;49m\u001b[43minterpolation\u001b[49m\u001b[43m,\u001b[49m\u001b[43m \u001b[49m\u001b[43mnumeric_only\u001b[49m\u001b[38;5;241;43m=\u001b[39;49m\u001b[38;5;28;43;01mFalse\u001b[39;49;00m\u001b[43m)\u001b[49m\n\u001b[1;32m   2878\u001b[0m \u001b[38;5;28;01mif\u001b[39;00m result\u001b[38;5;241m.\u001b[39mndim \u001b[38;5;241m==\u001b[39m \u001b[38;5;241m2\u001b[39m:\n\u001b[1;32m   2879\u001b[0m     result \u001b[38;5;241m=\u001b[39m result\u001b[38;5;241m.\u001b[39miloc[:, \u001b[38;5;241m0\u001b[39m]\n",
      "File \u001b[0;32m/Library/Frameworks/Python.framework/Versions/3.12/lib/python3.12/site-packages/pandas/core/frame.py:12119\u001b[0m, in \u001b[0;36mDataFrame.quantile\u001b[0;34m(self, q, axis, numeric_only, interpolation, method)\u001b[0m\n\u001b[1;32m  12113\u001b[0m axis \u001b[38;5;241m=\u001b[39m \u001b[38;5;28mself\u001b[39m\u001b[38;5;241m.\u001b[39m_get_axis_number(axis)\n\u001b[1;32m  12115\u001b[0m \u001b[38;5;28;01mif\u001b[39;00m \u001b[38;5;129;01mnot\u001b[39;00m is_list_like(q):\n\u001b[1;32m  12116\u001b[0m     \u001b[38;5;66;03m# BlockManager.quantile expects listlike, so we wrap and unwrap here\u001b[39;00m\n\u001b[1;32m  12117\u001b[0m     \u001b[38;5;66;03m# error: List item 0 has incompatible type \"float | ExtensionArray |\u001b[39;00m\n\u001b[1;32m  12118\u001b[0m     \u001b[38;5;66;03m# ndarray[Any, Any] | Index | Series | Sequence[float]\"; expected \"float\"\u001b[39;00m\n\u001b[0;32m> 12119\u001b[0m     res_df \u001b[38;5;241m=\u001b[39m \u001b[38;5;28;43mself\u001b[39;49m\u001b[38;5;241;43m.\u001b[39;49m\u001b[43mquantile\u001b[49m\u001b[43m(\u001b[49m\n\u001b[1;32m  12120\u001b[0m \u001b[43m        \u001b[49m\u001b[43m[\u001b[49m\u001b[43mq\u001b[49m\u001b[43m]\u001b[49m\u001b[43m,\u001b[49m\u001b[43m  \u001b[49m\u001b[38;5;66;43;03m# type: ignore[list-item]\u001b[39;49;00m\n\u001b[1;32m  12121\u001b[0m \u001b[43m        \u001b[49m\u001b[43maxis\u001b[49m\u001b[38;5;241;43m=\u001b[39;49m\u001b[43maxis\u001b[49m\u001b[43m,\u001b[49m\n\u001b[1;32m  12122\u001b[0m \u001b[43m        \u001b[49m\u001b[43mnumeric_only\u001b[49m\u001b[38;5;241;43m=\u001b[39;49m\u001b[43mnumeric_only\u001b[49m\u001b[43m,\u001b[49m\n\u001b[1;32m  12123\u001b[0m \u001b[43m        \u001b[49m\u001b[43minterpolation\u001b[49m\u001b[38;5;241;43m=\u001b[39;49m\u001b[43minterpolation\u001b[49m\u001b[43m,\u001b[49m\n\u001b[1;32m  12124\u001b[0m \u001b[43m        \u001b[49m\u001b[43mmethod\u001b[49m\u001b[38;5;241;43m=\u001b[39;49m\u001b[43mmethod\u001b[49m\u001b[43m,\u001b[49m\n\u001b[1;32m  12125\u001b[0m \u001b[43m    \u001b[49m\u001b[43m)\u001b[49m\n\u001b[1;32m  12126\u001b[0m     \u001b[38;5;28;01mif\u001b[39;00m method \u001b[38;5;241m==\u001b[39m \u001b[38;5;124m\"\u001b[39m\u001b[38;5;124msingle\u001b[39m\u001b[38;5;124m\"\u001b[39m:\n\u001b[1;32m  12127\u001b[0m         res \u001b[38;5;241m=\u001b[39m res_df\u001b[38;5;241m.\u001b[39miloc[\u001b[38;5;241m0\u001b[39m]\n",
      "File \u001b[0;32m/Library/Frameworks/Python.framework/Versions/3.12/lib/python3.12/site-packages/pandas/core/frame.py:12164\u001b[0m, in \u001b[0;36mDataFrame.quantile\u001b[0;34m(self, q, axis, numeric_only, interpolation, method)\u001b[0m\n\u001b[1;32m  12160\u001b[0m     \u001b[38;5;28;01mraise\u001b[39;00m \u001b[38;5;167;01mValueError\u001b[39;00m(\n\u001b[1;32m  12161\u001b[0m         \u001b[38;5;124mf\u001b[39m\u001b[38;5;124m\"\u001b[39m\u001b[38;5;124mInvalid method: \u001b[39m\u001b[38;5;132;01m{\u001b[39;00mmethod\u001b[38;5;132;01m}\u001b[39;00m\u001b[38;5;124m. Method must be in \u001b[39m\u001b[38;5;132;01m{\u001b[39;00mvalid_method\u001b[38;5;132;01m}\u001b[39;00m\u001b[38;5;124m.\u001b[39m\u001b[38;5;124m\"\u001b[39m\n\u001b[1;32m  12162\u001b[0m     )\n\u001b[1;32m  12163\u001b[0m \u001b[38;5;28;01mif\u001b[39;00m method \u001b[38;5;241m==\u001b[39m \u001b[38;5;124m\"\u001b[39m\u001b[38;5;124msingle\u001b[39m\u001b[38;5;124m\"\u001b[39m:\n\u001b[0;32m> 12164\u001b[0m     res \u001b[38;5;241m=\u001b[39m \u001b[43mdata\u001b[49m\u001b[38;5;241;43m.\u001b[39;49m\u001b[43m_mgr\u001b[49m\u001b[38;5;241;43m.\u001b[39;49m\u001b[43mquantile\u001b[49m\u001b[43m(\u001b[49m\u001b[43mqs\u001b[49m\u001b[38;5;241;43m=\u001b[39;49m\u001b[43mq\u001b[49m\u001b[43m,\u001b[49m\u001b[43m \u001b[49m\u001b[43minterpolation\u001b[49m\u001b[38;5;241;43m=\u001b[39;49m\u001b[43minterpolation\u001b[49m\u001b[43m)\u001b[49m\n\u001b[1;32m  12165\u001b[0m \u001b[38;5;28;01melif\u001b[39;00m method \u001b[38;5;241m==\u001b[39m \u001b[38;5;124m\"\u001b[39m\u001b[38;5;124mtable\u001b[39m\u001b[38;5;124m\"\u001b[39m:\n\u001b[1;32m  12166\u001b[0m     valid_interpolation \u001b[38;5;241m=\u001b[39m {\u001b[38;5;124m\"\u001b[39m\u001b[38;5;124mnearest\u001b[39m\u001b[38;5;124m\"\u001b[39m, \u001b[38;5;124m\"\u001b[39m\u001b[38;5;124mlower\u001b[39m\u001b[38;5;124m\"\u001b[39m, \u001b[38;5;124m\"\u001b[39m\u001b[38;5;124mhigher\u001b[39m\u001b[38;5;124m\"\u001b[39m}\n",
      "File \u001b[0;32m/Library/Frameworks/Python.framework/Versions/3.12/lib/python3.12/site-packages/pandas/core/internals/managers.py:1550\u001b[0m, in \u001b[0;36mBlockManager.quantile\u001b[0;34m(self, qs, interpolation)\u001b[0m\n\u001b[1;32m   1546\u001b[0m new_axes \u001b[38;5;241m=\u001b[39m \u001b[38;5;28mlist\u001b[39m(\u001b[38;5;28mself\u001b[39m\u001b[38;5;241m.\u001b[39maxes)\n\u001b[1;32m   1547\u001b[0m new_axes[\u001b[38;5;241m1\u001b[39m] \u001b[38;5;241m=\u001b[39m Index(qs, dtype\u001b[38;5;241m=\u001b[39mnp\u001b[38;5;241m.\u001b[39mfloat64)\n\u001b[1;32m   1549\u001b[0m blocks \u001b[38;5;241m=\u001b[39m [\n\u001b[0;32m-> 1550\u001b[0m     \u001b[43mblk\u001b[49m\u001b[38;5;241;43m.\u001b[39;49m\u001b[43mquantile\u001b[49m\u001b[43m(\u001b[49m\u001b[43mqs\u001b[49m\u001b[38;5;241;43m=\u001b[39;49m\u001b[43mqs\u001b[49m\u001b[43m,\u001b[49m\u001b[43m \u001b[49m\u001b[43minterpolation\u001b[49m\u001b[38;5;241;43m=\u001b[39;49m\u001b[43minterpolation\u001b[49m\u001b[43m)\u001b[49m \u001b[38;5;28;01mfor\u001b[39;00m blk \u001b[38;5;129;01min\u001b[39;00m \u001b[38;5;28mself\u001b[39m\u001b[38;5;241m.\u001b[39mblocks\n\u001b[1;32m   1551\u001b[0m ]\n\u001b[1;32m   1553\u001b[0m \u001b[38;5;28;01mreturn\u001b[39;00m \u001b[38;5;28mtype\u001b[39m(\u001b[38;5;28mself\u001b[39m)(blocks, new_axes)\n",
      "File \u001b[0;32m/Library/Frameworks/Python.framework/Versions/3.12/lib/python3.12/site-packages/pandas/core/internals/blocks.py:1884\u001b[0m, in \u001b[0;36mBlock.quantile\u001b[0;34m(self, qs, interpolation)\u001b[0m\n\u001b[1;32m   1881\u001b[0m \u001b[38;5;28;01massert\u001b[39;00m \u001b[38;5;28mself\u001b[39m\u001b[38;5;241m.\u001b[39mndim \u001b[38;5;241m==\u001b[39m \u001b[38;5;241m2\u001b[39m\n\u001b[1;32m   1882\u001b[0m \u001b[38;5;28;01massert\u001b[39;00m is_list_like(qs)  \u001b[38;5;66;03m# caller is responsible for this\u001b[39;00m\n\u001b[0;32m-> 1884\u001b[0m result \u001b[38;5;241m=\u001b[39m \u001b[43mquantile_compat\u001b[49m\u001b[43m(\u001b[49m\u001b[38;5;28;43mself\u001b[39;49m\u001b[38;5;241;43m.\u001b[39;49m\u001b[43mvalues\u001b[49m\u001b[43m,\u001b[49m\u001b[43m \u001b[49m\u001b[43mnp\u001b[49m\u001b[38;5;241;43m.\u001b[39;49m\u001b[43masarray\u001b[49m\u001b[43m(\u001b[49m\u001b[43mqs\u001b[49m\u001b[38;5;241;43m.\u001b[39;49m\u001b[43m_values\u001b[49m\u001b[43m)\u001b[49m\u001b[43m,\u001b[49m\u001b[43m \u001b[49m\u001b[43minterpolation\u001b[49m\u001b[43m)\u001b[49m\n\u001b[1;32m   1885\u001b[0m \u001b[38;5;66;03m# ensure_block_shape needed for cases where we start with EA and result\u001b[39;00m\n\u001b[1;32m   1886\u001b[0m \u001b[38;5;66;03m#  is ndarray, e.g. IntegerArray, SparseArray\u001b[39;00m\n\u001b[1;32m   1887\u001b[0m result \u001b[38;5;241m=\u001b[39m ensure_block_shape(result, ndim\u001b[38;5;241m=\u001b[39m\u001b[38;5;241m2\u001b[39m)\n",
      "File \u001b[0;32m/Library/Frameworks/Python.framework/Versions/3.12/lib/python3.12/site-packages/pandas/core/array_algos/quantile.py:39\u001b[0m, in \u001b[0;36mquantile_compat\u001b[0;34m(values, qs, interpolation)\u001b[0m\n\u001b[1;32m     37\u001b[0m     fill_value \u001b[38;5;241m=\u001b[39m na_value_for_dtype(values\u001b[38;5;241m.\u001b[39mdtype, compat\u001b[38;5;241m=\u001b[39m\u001b[38;5;28;01mFalse\u001b[39;00m)\n\u001b[1;32m     38\u001b[0m     mask \u001b[38;5;241m=\u001b[39m isna(values)\n\u001b[0;32m---> 39\u001b[0m     \u001b[38;5;28;01mreturn\u001b[39;00m \u001b[43mquantile_with_mask\u001b[49m\u001b[43m(\u001b[49m\u001b[43mvalues\u001b[49m\u001b[43m,\u001b[49m\u001b[43m \u001b[49m\u001b[43mmask\u001b[49m\u001b[43m,\u001b[49m\u001b[43m \u001b[49m\u001b[43mfill_value\u001b[49m\u001b[43m,\u001b[49m\u001b[43m \u001b[49m\u001b[43mqs\u001b[49m\u001b[43m,\u001b[49m\u001b[43m \u001b[49m\u001b[43minterpolation\u001b[49m\u001b[43m)\u001b[49m\n\u001b[1;32m     40\u001b[0m \u001b[38;5;28;01melse\u001b[39;00m:\n\u001b[1;32m     41\u001b[0m     \u001b[38;5;28;01mreturn\u001b[39;00m values\u001b[38;5;241m.\u001b[39m_quantile(qs, interpolation)\n",
      "File \u001b[0;32m/Library/Frameworks/Python.framework/Versions/3.12/lib/python3.12/site-packages/pandas/core/array_algos/quantile.py:97\u001b[0m, in \u001b[0;36mquantile_with_mask\u001b[0;34m(values, mask, fill_value, qs, interpolation)\u001b[0m\n\u001b[1;32m     95\u001b[0m     result \u001b[38;5;241m=\u001b[39m np\u001b[38;5;241m.\u001b[39mrepeat(flat, \u001b[38;5;28mlen\u001b[39m(values))\u001b[38;5;241m.\u001b[39mreshape(\u001b[38;5;28mlen\u001b[39m(values), \u001b[38;5;28mlen\u001b[39m(qs))\n\u001b[1;32m     96\u001b[0m \u001b[38;5;28;01melse\u001b[39;00m:\n\u001b[0;32m---> 97\u001b[0m     result \u001b[38;5;241m=\u001b[39m \u001b[43m_nanpercentile\u001b[49m\u001b[43m(\u001b[49m\n\u001b[1;32m     98\u001b[0m \u001b[43m        \u001b[49m\u001b[43mvalues\u001b[49m\u001b[43m,\u001b[49m\n\u001b[1;32m     99\u001b[0m \u001b[43m        \u001b[49m\u001b[43mqs\u001b[49m\u001b[43m \u001b[49m\u001b[38;5;241;43m*\u001b[39;49m\u001b[43m \u001b[49m\u001b[38;5;241;43m100.0\u001b[39;49m\u001b[43m,\u001b[49m\n\u001b[1;32m    100\u001b[0m \u001b[43m        \u001b[49m\u001b[43mna_value\u001b[49m\u001b[38;5;241;43m=\u001b[39;49m\u001b[43mfill_value\u001b[49m\u001b[43m,\u001b[49m\n\u001b[1;32m    101\u001b[0m \u001b[43m        \u001b[49m\u001b[43mmask\u001b[49m\u001b[38;5;241;43m=\u001b[39;49m\u001b[43mmask\u001b[49m\u001b[43m,\u001b[49m\n\u001b[1;32m    102\u001b[0m \u001b[43m        \u001b[49m\u001b[43minterpolation\u001b[49m\u001b[38;5;241;43m=\u001b[39;49m\u001b[43minterpolation\u001b[49m\u001b[43m,\u001b[49m\n\u001b[1;32m    103\u001b[0m \u001b[43m    \u001b[49m\u001b[43m)\u001b[49m\n\u001b[1;32m    105\u001b[0m     result \u001b[38;5;241m=\u001b[39m np\u001b[38;5;241m.\u001b[39marray(result, copy\u001b[38;5;241m=\u001b[39m\u001b[38;5;28;01mFalse\u001b[39;00m)\n\u001b[1;32m    106\u001b[0m     result \u001b[38;5;241m=\u001b[39m result\u001b[38;5;241m.\u001b[39mT\n",
      "File \u001b[0;32m/Library/Frameworks/Python.framework/Versions/3.12/lib/python3.12/site-packages/pandas/core/array_algos/quantile.py:218\u001b[0m, in \u001b[0;36m_nanpercentile\u001b[0;34m(values, qs, na_value, mask, interpolation)\u001b[0m\n\u001b[1;32m    216\u001b[0m     \u001b[38;5;28;01mreturn\u001b[39;00m result\n\u001b[1;32m    217\u001b[0m \u001b[38;5;28;01melse\u001b[39;00m:\n\u001b[0;32m--> 218\u001b[0m     \u001b[38;5;28;01mreturn\u001b[39;00m \u001b[43mnp\u001b[49m\u001b[38;5;241;43m.\u001b[39;49m\u001b[43mpercentile\u001b[49m\u001b[43m(\u001b[49m\n\u001b[1;32m    219\u001b[0m \u001b[43m        \u001b[49m\u001b[43mvalues\u001b[49m\u001b[43m,\u001b[49m\n\u001b[1;32m    220\u001b[0m \u001b[43m        \u001b[49m\u001b[43mqs\u001b[49m\u001b[43m,\u001b[49m\n\u001b[1;32m    221\u001b[0m \u001b[43m        \u001b[49m\u001b[43maxis\u001b[49m\u001b[38;5;241;43m=\u001b[39;49m\u001b[38;5;241;43m1\u001b[39;49m\u001b[43m,\u001b[49m\n\u001b[1;32m    222\u001b[0m \u001b[43m        \u001b[49m\u001b[38;5;66;43;03m# error: No overload variant of \"percentile\" matches argument types\u001b[39;49;00m\n\u001b[1;32m    223\u001b[0m \u001b[43m        \u001b[49m\u001b[38;5;66;43;03m# \"ndarray[Any, Any]\", \"ndarray[Any, dtype[floating[_64Bit]]]\",\u001b[39;49;00m\n\u001b[1;32m    224\u001b[0m \u001b[43m        \u001b[49m\u001b[38;5;66;43;03m# \"int\", \"Dict[str, str]\"  [call-overload]\u001b[39;49;00m\n\u001b[1;32m    225\u001b[0m \u001b[43m        \u001b[49m\u001b[43mmethod\u001b[49m\u001b[38;5;241;43m=\u001b[39;49m\u001b[43minterpolation\u001b[49m\u001b[43m,\u001b[49m\u001b[43m  \u001b[49m\u001b[38;5;66;43;03m# type: ignore[call-overload]\u001b[39;49;00m\n\u001b[1;32m    226\u001b[0m \u001b[43m    \u001b[49m\u001b[43m)\u001b[49m\n",
      "File \u001b[0;32m/Library/Frameworks/Python.framework/Versions/3.12/lib/python3.12/site-packages/numpy/lib/function_base.py:4283\u001b[0m, in \u001b[0;36mpercentile\u001b[0;34m(a, q, axis, out, overwrite_input, method, keepdims, interpolation)\u001b[0m\n\u001b[1;32m   4281\u001b[0m \u001b[38;5;28;01mif\u001b[39;00m \u001b[38;5;129;01mnot\u001b[39;00m _quantile_is_valid(q):\n\u001b[1;32m   4282\u001b[0m     \u001b[38;5;28;01mraise\u001b[39;00m \u001b[38;5;167;01mValueError\u001b[39;00m(\u001b[38;5;124m\"\u001b[39m\u001b[38;5;124mPercentiles must be in the range [0, 100]\u001b[39m\u001b[38;5;124m\"\u001b[39m)\n\u001b[0;32m-> 4283\u001b[0m \u001b[38;5;28;01mreturn\u001b[39;00m \u001b[43m_quantile_unchecked\u001b[49m\u001b[43m(\u001b[49m\n\u001b[1;32m   4284\u001b[0m \u001b[43m    \u001b[49m\u001b[43ma\u001b[49m\u001b[43m,\u001b[49m\u001b[43m \u001b[49m\u001b[43mq\u001b[49m\u001b[43m,\u001b[49m\u001b[43m \u001b[49m\u001b[43maxis\u001b[49m\u001b[43m,\u001b[49m\u001b[43m \u001b[49m\u001b[43mout\u001b[49m\u001b[43m,\u001b[49m\u001b[43m \u001b[49m\u001b[43moverwrite_input\u001b[49m\u001b[43m,\u001b[49m\u001b[43m \u001b[49m\u001b[43mmethod\u001b[49m\u001b[43m,\u001b[49m\u001b[43m \u001b[49m\u001b[43mkeepdims\u001b[49m\u001b[43m)\u001b[49m\n",
      "File \u001b[0;32m/Library/Frameworks/Python.framework/Versions/3.12/lib/python3.12/site-packages/numpy/lib/function_base.py:4555\u001b[0m, in \u001b[0;36m_quantile_unchecked\u001b[0;34m(a, q, axis, out, overwrite_input, method, keepdims)\u001b[0m\n\u001b[1;32m   4547\u001b[0m \u001b[38;5;28;01mdef\u001b[39;00m \u001b[38;5;21m_quantile_unchecked\u001b[39m(a,\n\u001b[1;32m   4548\u001b[0m                         q,\n\u001b[1;32m   4549\u001b[0m                         axis\u001b[38;5;241m=\u001b[39m\u001b[38;5;28;01mNone\u001b[39;00m,\n\u001b[0;32m   (...)\u001b[0m\n\u001b[1;32m   4552\u001b[0m                         method\u001b[38;5;241m=\u001b[39m\u001b[38;5;124m\"\u001b[39m\u001b[38;5;124mlinear\u001b[39m\u001b[38;5;124m\"\u001b[39m,\n\u001b[1;32m   4553\u001b[0m                         keepdims\u001b[38;5;241m=\u001b[39m\u001b[38;5;28;01mFalse\u001b[39;00m):\n\u001b[1;32m   4554\u001b[0m \u001b[38;5;250m    \u001b[39m\u001b[38;5;124;03m\"\"\"Assumes that q is in [0, 1], and is an ndarray\"\"\"\u001b[39;00m\n\u001b[0;32m-> 4555\u001b[0m     \u001b[38;5;28;01mreturn\u001b[39;00m \u001b[43m_ureduce\u001b[49m\u001b[43m(\u001b[49m\u001b[43ma\u001b[49m\u001b[43m,\u001b[49m\n\u001b[1;32m   4556\u001b[0m \u001b[43m                    \u001b[49m\u001b[43mfunc\u001b[49m\u001b[38;5;241;43m=\u001b[39;49m\u001b[43m_quantile_ureduce_func\u001b[49m\u001b[43m,\u001b[49m\n\u001b[1;32m   4557\u001b[0m \u001b[43m                    \u001b[49m\u001b[43mq\u001b[49m\u001b[38;5;241;43m=\u001b[39;49m\u001b[43mq\u001b[49m\u001b[43m,\u001b[49m\n\u001b[1;32m   4558\u001b[0m \u001b[43m                    \u001b[49m\u001b[43mkeepdims\u001b[49m\u001b[38;5;241;43m=\u001b[39;49m\u001b[43mkeepdims\u001b[49m\u001b[43m,\u001b[49m\n\u001b[1;32m   4559\u001b[0m \u001b[43m                    \u001b[49m\u001b[43maxis\u001b[49m\u001b[38;5;241;43m=\u001b[39;49m\u001b[43maxis\u001b[49m\u001b[43m,\u001b[49m\n\u001b[1;32m   4560\u001b[0m \u001b[43m                    \u001b[49m\u001b[43mout\u001b[49m\u001b[38;5;241;43m=\u001b[39;49m\u001b[43mout\u001b[49m\u001b[43m,\u001b[49m\n\u001b[1;32m   4561\u001b[0m \u001b[43m                    \u001b[49m\u001b[43moverwrite_input\u001b[49m\u001b[38;5;241;43m=\u001b[39;49m\u001b[43moverwrite_input\u001b[49m\u001b[43m,\u001b[49m\n\u001b[1;32m   4562\u001b[0m \u001b[43m                    \u001b[49m\u001b[43mmethod\u001b[49m\u001b[38;5;241;43m=\u001b[39;49m\u001b[43mmethod\u001b[49m\u001b[43m)\u001b[49m\n",
      "File \u001b[0;32m/Library/Frameworks/Python.framework/Versions/3.12/lib/python3.12/site-packages/numpy/lib/function_base.py:3823\u001b[0m, in \u001b[0;36m_ureduce\u001b[0;34m(a, func, keepdims, **kwargs)\u001b[0m\n\u001b[1;32m   3820\u001b[0m             index_out \u001b[38;5;241m=\u001b[39m (\u001b[38;5;241m0\u001b[39m, ) \u001b[38;5;241m*\u001b[39m nd\n\u001b[1;32m   3821\u001b[0m             kwargs[\u001b[38;5;124m'\u001b[39m\u001b[38;5;124mout\u001b[39m\u001b[38;5;124m'\u001b[39m] \u001b[38;5;241m=\u001b[39m out[(\u001b[38;5;28mEllipsis\u001b[39m, ) \u001b[38;5;241m+\u001b[39m index_out]\n\u001b[0;32m-> 3823\u001b[0m r \u001b[38;5;241m=\u001b[39m \u001b[43mfunc\u001b[49m\u001b[43m(\u001b[49m\u001b[43ma\u001b[49m\u001b[43m,\u001b[49m\u001b[43m \u001b[49m\u001b[38;5;241;43m*\u001b[39;49m\u001b[38;5;241;43m*\u001b[39;49m\u001b[43mkwargs\u001b[49m\u001b[43m)\u001b[49m\n\u001b[1;32m   3825\u001b[0m \u001b[38;5;28;01mif\u001b[39;00m out \u001b[38;5;129;01mis\u001b[39;00m \u001b[38;5;129;01mnot\u001b[39;00m \u001b[38;5;28;01mNone\u001b[39;00m:\n\u001b[1;32m   3826\u001b[0m     \u001b[38;5;28;01mreturn\u001b[39;00m out\n",
      "File \u001b[0;32m/Library/Frameworks/Python.framework/Versions/3.12/lib/python3.12/site-packages/numpy/lib/function_base.py:4721\u001b[0m, in \u001b[0;36m_quantile_ureduce_func\u001b[0;34m(a, q, axis, out, overwrite_input, method)\u001b[0m\n\u001b[1;32m   4719\u001b[0m     \u001b[38;5;28;01melse\u001b[39;00m:\n\u001b[1;32m   4720\u001b[0m         arr \u001b[38;5;241m=\u001b[39m a\u001b[38;5;241m.\u001b[39mcopy()\n\u001b[0;32m-> 4721\u001b[0m result \u001b[38;5;241m=\u001b[39m \u001b[43m_quantile\u001b[49m\u001b[43m(\u001b[49m\u001b[43marr\u001b[49m\u001b[43m,\u001b[49m\n\u001b[1;32m   4722\u001b[0m \u001b[43m                   \u001b[49m\u001b[43mquantiles\u001b[49m\u001b[38;5;241;43m=\u001b[39;49m\u001b[43mq\u001b[49m\u001b[43m,\u001b[49m\n\u001b[1;32m   4723\u001b[0m \u001b[43m                   \u001b[49m\u001b[43maxis\u001b[49m\u001b[38;5;241;43m=\u001b[39;49m\u001b[43maxis\u001b[49m\u001b[43m,\u001b[49m\n\u001b[1;32m   4724\u001b[0m \u001b[43m                   \u001b[49m\u001b[43mmethod\u001b[49m\u001b[38;5;241;43m=\u001b[39;49m\u001b[43mmethod\u001b[49m\u001b[43m,\u001b[49m\n\u001b[1;32m   4725\u001b[0m \u001b[43m                   \u001b[49m\u001b[43mout\u001b[49m\u001b[38;5;241;43m=\u001b[39;49m\u001b[43mout\u001b[49m\u001b[43m)\u001b[49m\n\u001b[1;32m   4726\u001b[0m \u001b[38;5;28;01mreturn\u001b[39;00m result\n",
      "File \u001b[0;32m/Library/Frameworks/Python.framework/Versions/3.12/lib/python3.12/site-packages/numpy/lib/function_base.py:4840\u001b[0m, in \u001b[0;36m_quantile\u001b[0;34m(arr, quantiles, axis, method, out)\u001b[0m\n\u001b[1;32m   4838\u001b[0m     result_shape \u001b[38;5;241m=\u001b[39m virtual_indexes\u001b[38;5;241m.\u001b[39mshape \u001b[38;5;241m+\u001b[39m (\u001b[38;5;241m1\u001b[39m,) \u001b[38;5;241m*\u001b[39m (arr\u001b[38;5;241m.\u001b[39mndim \u001b[38;5;241m-\u001b[39m \u001b[38;5;241m1\u001b[39m)\n\u001b[1;32m   4839\u001b[0m     gamma \u001b[38;5;241m=\u001b[39m gamma\u001b[38;5;241m.\u001b[39mreshape(result_shape)\n\u001b[0;32m-> 4840\u001b[0m     result \u001b[38;5;241m=\u001b[39m \u001b[43m_lerp\u001b[49m\u001b[43m(\u001b[49m\u001b[43mprevious\u001b[49m\u001b[43m,\u001b[49m\n\u001b[1;32m   4841\u001b[0m \u001b[43m                   \u001b[49m\u001b[38;5;28;43mnext\u001b[39;49m\u001b[43m,\u001b[49m\n\u001b[1;32m   4842\u001b[0m \u001b[43m                   \u001b[49m\u001b[43mgamma\u001b[49m\u001b[43m,\u001b[49m\n\u001b[1;32m   4843\u001b[0m \u001b[43m                   \u001b[49m\u001b[43mout\u001b[49m\u001b[38;5;241;43m=\u001b[39;49m\u001b[43mout\u001b[49m\u001b[43m)\u001b[49m\n\u001b[1;32m   4844\u001b[0m \u001b[38;5;28;01mif\u001b[39;00m np\u001b[38;5;241m.\u001b[39many(slices_having_nans):\n\u001b[1;32m   4845\u001b[0m     \u001b[38;5;28;01mif\u001b[39;00m result\u001b[38;5;241m.\u001b[39mndim \u001b[38;5;241m==\u001b[39m \u001b[38;5;241m0\u001b[39m \u001b[38;5;129;01mand\u001b[39;00m out \u001b[38;5;129;01mis\u001b[39;00m \u001b[38;5;28;01mNone\u001b[39;00m:\n\u001b[1;32m   4846\u001b[0m         \u001b[38;5;66;03m# can't write to a scalar, but indexing will be correct\u001b[39;00m\n",
      "File \u001b[0;32m/Library/Frameworks/Python.framework/Versions/3.12/lib/python3.12/site-packages/numpy/lib/function_base.py:4655\u001b[0m, in \u001b[0;36m_lerp\u001b[0;34m(a, b, t, out)\u001b[0m\n\u001b[1;32m   4641\u001b[0m \u001b[38;5;28;01mdef\u001b[39;00m \u001b[38;5;21m_lerp\u001b[39m(a, b, t, out\u001b[38;5;241m=\u001b[39m\u001b[38;5;28;01mNone\u001b[39;00m):\n\u001b[1;32m   4642\u001b[0m \u001b[38;5;250m    \u001b[39m\u001b[38;5;124;03m\"\"\"\u001b[39;00m\n\u001b[1;32m   4643\u001b[0m \u001b[38;5;124;03m    Compute the linear interpolation weighted by gamma on each point of\u001b[39;00m\n\u001b[1;32m   4644\u001b[0m \u001b[38;5;124;03m    two same shape array.\u001b[39;00m\n\u001b[0;32m   (...)\u001b[0m\n\u001b[1;32m   4653\u001b[0m \u001b[38;5;124;03m        Output array.\u001b[39;00m\n\u001b[1;32m   4654\u001b[0m \u001b[38;5;124;03m    \"\"\"\u001b[39;00m\n\u001b[0;32m-> 4655\u001b[0m     diff_b_a \u001b[38;5;241m=\u001b[39m \u001b[43msubtract\u001b[49m\u001b[43m(\u001b[49m\u001b[43mb\u001b[49m\u001b[43m,\u001b[49m\u001b[43m \u001b[49m\u001b[43ma\u001b[49m\u001b[43m)\u001b[49m\n\u001b[1;32m   4656\u001b[0m     \u001b[38;5;66;03m# asanyarray is a stop-gap until gh-13105\u001b[39;00m\n\u001b[1;32m   4657\u001b[0m     lerp_interpolation \u001b[38;5;241m=\u001b[39m asanyarray(add(a, diff_b_a \u001b[38;5;241m*\u001b[39m t, out\u001b[38;5;241m=\u001b[39mout))\n",
      "\u001b[0;31mTypeError\u001b[0m: unsupported operand type(s) for -: 'str' and 'str'"
     ]
    }
   ],
   "source": [
    "#95th percentile function definiton\n",
    "def outlier_adj(df, column):\n",
    "    percentile_95 = df[column].quantile(0.95)\n",
    "    df[column] = df[column].apply(lambda x: min(x, percentile_95))\n",
    "    return df\n",
    "\n",
    "#Columns\n",
    "modifier_columns = ['Loan_Amount', 'Funded_Amount', 'Funded_Amount_Investor', 'Interest_Rate', \n",
    "                   'Annual_Income', 'Total_Credit_Revolving_Balance', 'Total_Payments_Received', 'Total_Payments_Received_Investor']\n",
    "\n",
    "#Capping\n",
    "for column in modifier_columns:\n",
    "    df_new = outlier_adj(df_new, column)\n",
    "\n",
    "#Verifying the values\n",
    "capped_values = data[modifier_columns].max()\n",
    "capped_values"
   ]
  }
 ],
 "metadata": {
  "kernelspec": {
   "display_name": "Python 3 (ipykernel)",
   "language": "python",
   "name": "python3"
  },
  "language_info": {
   "codemirror_mode": {
    "name": "ipython",
    "version": 3
   },
   "file_extension": ".py",
   "mimetype": "text/x-python",
   "name": "python",
   "nbconvert_exporter": "python",
   "pygments_lexer": "ipython3",
   "version": "3.12.1"
  }
 },
 "nbformat": 4,
 "nbformat_minor": 5
}
